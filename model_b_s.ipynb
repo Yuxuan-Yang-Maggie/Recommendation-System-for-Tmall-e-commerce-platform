{
 "cells": [
  {
   "cell_type": "code",
   "execution_count": 1,
   "id": "d6c93898",
   "metadata": {},
   "outputs": [],
   "source": [
    "import pandas as pd\n",
    "import numpy as np"
   ]
  },
  {
   "cell_type": "code",
   "execution_count": 2,
   "id": "66164786",
   "metadata": {},
   "outputs": [],
   "source": [
    "train = pd.read_csv('b_s_train.csv', index_col=['user_id', 'seller_id'])\n",
    "test = pd.read_csv('b_s_test.csv', index_col=['user_id', 'seller_id'])"
   ]
  },
  {
   "cell_type": "code",
   "execution_count": 6,
   "id": "cc3188f2",
   "metadata": {},
   "outputs": [],
   "source": [
    "features = ['purchase', 'click', 'cart', 'click_buy_ratio', 'cart_buy_ratio',\n",
    "            'purchase_last_m', 'click_last_m', 'cart_last_m',\n",
    "            'click_recent', 'cart_recent', 'last_purchase', 'last_click', 'last_cart',\n",
    "            'sentimentscore_pos',\n",
    "            'outcome']\n",
    "train = train[features]\n",
    "test = test[features]"
   ]
  },
  {
   "cell_type": "code",
   "execution_count": 7,
   "id": "ede5b09c",
   "metadata": {},
   "outputs": [],
   "source": [
    "X_train = train.iloc[:, :-1].values\n",
    "y_train = train.iloc[:, -1].values\n",
    "X_test = test.iloc[:, :-1].values\n",
    "y_test = test.iloc[:, -1].values"
   ]
  },
  {
   "cell_type": "code",
   "execution_count": 8,
   "id": "f26ca6cb",
   "metadata": {},
   "outputs": [],
   "source": [
    "from sklearn.preprocessing import StandardScaler\n",
    "sc = StandardScaler()\n",
    "X_train = sc.fit_transform(X_train)\n",
    "X_test = sc.transform(X_test)"
   ]
  },
  {
   "cell_type": "markdown",
   "id": "9bd0733b",
   "metadata": {},
   "source": [
    "# random forest"
   ]
  },
  {
   "cell_type": "code",
   "execution_count": 13,
   "id": "cddde3cc",
   "metadata": {},
   "outputs": [],
   "source": [
    "from sklearn.ensemble import RandomForestClassifier\n",
    "from sklearn.metrics import roc_auc_score, f1_score\n",
    "from sklearn.model_selection import RandomizedSearchCV"
   ]
  },
  {
   "cell_type": "code",
   "execution_count": 82,
   "id": "823eab8f",
   "metadata": {},
   "outputs": [],
   "source": [
    "# Number of trees in random forest\n",
    "n_estimators = [int(x) for x in np.linspace(start = 100, stop = 1000, num = 10)]\n",
    "# Number of features to consider at every split\n",
    "max_features = ['auto', 'sqrt']\n",
    "# Maximum number of levels in tree\n",
    "max_depth = [int(x) for x in np.linspace(3, 10)]\n",
    "max_depth.append(None)\n",
    "# Minimum number of samples required to split a node\n",
    "min_samples_split = [2, 5, 10]\n",
    "# Minimum number of samples required at each leaf node\n",
    "min_samples_leaf = [1, 2, 4]\n",
    "# Method of selecting samples for training each tree\n",
    "bootstrap = [True, False]\n",
    "# Create the random grid\n",
    "random_grid = {'n_estimators': n_estimators,\n",
    "               'max_features': max_features,\n",
    "               'max_depth': max_depth,\n",
    "               'min_samples_split': min_samples_split,\n",
    "               'min_samples_leaf': min_samples_leaf,\n",
    "               'bootstrap': bootstrap}"
   ]
  },
  {
   "cell_type": "code",
   "execution_count": 99,
   "id": "3935e9f0",
   "metadata": {},
   "outputs": [
    {
     "name": "stdout",
     "output_type": "stream",
     "text": [
      "Fitting 2 folds for each of 10 candidates, totalling 20 fits\n"
     ]
    },
    {
     "ename": "KeyboardInterrupt",
     "evalue": "",
     "output_type": "error",
     "traceback": [
      "\u001b[0;31m---------------------------------------------------------------------------\u001b[0m",
      "\u001b[0;31mKeyboardInterrupt\u001b[0m                         Traceback (most recent call last)",
      "\u001b[0;32m/var/folders/qq/cy_ydgl96ln1wcgv8d9hyw5w0000gn/T/ipykernel_2035/288882147.py\u001b[0m in \u001b[0;36m<module>\u001b[0;34m\u001b[0m\n\u001b[1;32m      6\u001b[0m \u001b[0mrf_random\u001b[0m \u001b[0;34m=\u001b[0m \u001b[0mRandomizedSearchCV\u001b[0m\u001b[0;34m(\u001b[0m\u001b[0mestimator\u001b[0m \u001b[0;34m=\u001b[0m \u001b[0mrf\u001b[0m\u001b[0;34m,\u001b[0m \u001b[0mparam_distributions\u001b[0m \u001b[0;34m=\u001b[0m \u001b[0mrandom_grid\u001b[0m\u001b[0;34m,\u001b[0m \u001b[0mn_iter\u001b[0m \u001b[0;34m=\u001b[0m \u001b[0;36m10\u001b[0m\u001b[0;34m,\u001b[0m \u001b[0mcv\u001b[0m\u001b[0;34m=\u001b[0m\u001b[0;36m2\u001b[0m\u001b[0;34m,\u001b[0m \u001b[0mverbose\u001b[0m\u001b[0;34m=\u001b[0m\u001b[0;36m2\u001b[0m\u001b[0;34m,\u001b[0m \u001b[0mrandom_state\u001b[0m\u001b[0;34m=\u001b[0m\u001b[0;36m42\u001b[0m\u001b[0;34m,\u001b[0m \u001b[0mn_jobs\u001b[0m \u001b[0;34m=\u001b[0m \u001b[0;34m-\u001b[0m\u001b[0;36m1\u001b[0m\u001b[0;34m)\u001b[0m\u001b[0;34m\u001b[0m\u001b[0;34m\u001b[0m\u001b[0m\n\u001b[1;32m      7\u001b[0m \u001b[0;31m# Fit the random search model\u001b[0m\u001b[0;34m\u001b[0m\u001b[0;34m\u001b[0m\u001b[0m\n\u001b[0;32m----> 8\u001b[0;31m \u001b[0mrf_random\u001b[0m\u001b[0;34m.\u001b[0m\u001b[0mfit\u001b[0m\u001b[0;34m(\u001b[0m\u001b[0mX_train\u001b[0m\u001b[0;34m,\u001b[0m \u001b[0my_train\u001b[0m\u001b[0;34m)\u001b[0m\u001b[0;34m\u001b[0m\u001b[0;34m\u001b[0m\u001b[0m\n\u001b[0m",
      "\u001b[0;32m~/opt/anaconda3/lib/python3.9/site-packages/sklearn/model_selection/_search.py\u001b[0m in \u001b[0;36mfit\u001b[0;34m(self, X, y, groups, **fit_params)\u001b[0m\n\u001b[1;32m    889\u001b[0m                 \u001b[0;32mreturn\u001b[0m \u001b[0mresults\u001b[0m\u001b[0;34m\u001b[0m\u001b[0;34m\u001b[0m\u001b[0m\n\u001b[1;32m    890\u001b[0m \u001b[0;34m\u001b[0m\u001b[0m\n\u001b[0;32m--> 891\u001b[0;31m             \u001b[0mself\u001b[0m\u001b[0;34m.\u001b[0m\u001b[0m_run_search\u001b[0m\u001b[0;34m(\u001b[0m\u001b[0mevaluate_candidates\u001b[0m\u001b[0;34m)\u001b[0m\u001b[0;34m\u001b[0m\u001b[0;34m\u001b[0m\u001b[0m\n\u001b[0m\u001b[1;32m    892\u001b[0m \u001b[0;34m\u001b[0m\u001b[0m\n\u001b[1;32m    893\u001b[0m             \u001b[0;31m# multimetric is determined here because in the case of a callable\u001b[0m\u001b[0;34m\u001b[0m\u001b[0;34m\u001b[0m\u001b[0m\n",
      "\u001b[0;32m~/opt/anaconda3/lib/python3.9/site-packages/sklearn/model_selection/_search.py\u001b[0m in \u001b[0;36m_run_search\u001b[0;34m(self, evaluate_candidates)\u001b[0m\n\u001b[1;32m   1764\u001b[0m     \u001b[0;32mdef\u001b[0m \u001b[0m_run_search\u001b[0m\u001b[0;34m(\u001b[0m\u001b[0mself\u001b[0m\u001b[0;34m,\u001b[0m \u001b[0mevaluate_candidates\u001b[0m\u001b[0;34m)\u001b[0m\u001b[0;34m:\u001b[0m\u001b[0;34m\u001b[0m\u001b[0;34m\u001b[0m\u001b[0m\n\u001b[1;32m   1765\u001b[0m         \u001b[0;34m\"\"\"Search n_iter candidates from param_distributions\"\"\"\u001b[0m\u001b[0;34m\u001b[0m\u001b[0;34m\u001b[0m\u001b[0m\n\u001b[0;32m-> 1766\u001b[0;31m         evaluate_candidates(\n\u001b[0m\u001b[1;32m   1767\u001b[0m             ParameterSampler(\n\u001b[1;32m   1768\u001b[0m                 \u001b[0mself\u001b[0m\u001b[0;34m.\u001b[0m\u001b[0mparam_distributions\u001b[0m\u001b[0;34m,\u001b[0m \u001b[0mself\u001b[0m\u001b[0;34m.\u001b[0m\u001b[0mn_iter\u001b[0m\u001b[0;34m,\u001b[0m \u001b[0mrandom_state\u001b[0m\u001b[0;34m=\u001b[0m\u001b[0mself\u001b[0m\u001b[0;34m.\u001b[0m\u001b[0mrandom_state\u001b[0m\u001b[0;34m\u001b[0m\u001b[0;34m\u001b[0m\u001b[0m\n",
      "\u001b[0;32m~/opt/anaconda3/lib/python3.9/site-packages/sklearn/model_selection/_search.py\u001b[0m in \u001b[0;36mevaluate_candidates\u001b[0;34m(candidate_params, cv, more_results)\u001b[0m\n\u001b[1;32m    836\u001b[0m                     )\n\u001b[1;32m    837\u001b[0m \u001b[0;34m\u001b[0m\u001b[0m\n\u001b[0;32m--> 838\u001b[0;31m                 out = parallel(\n\u001b[0m\u001b[1;32m    839\u001b[0m                     delayed(_fit_and_score)(\n\u001b[1;32m    840\u001b[0m                         \u001b[0mclone\u001b[0m\u001b[0;34m(\u001b[0m\u001b[0mbase_estimator\u001b[0m\u001b[0;34m)\u001b[0m\u001b[0;34m,\u001b[0m\u001b[0;34m\u001b[0m\u001b[0;34m\u001b[0m\u001b[0m\n",
      "\u001b[0;32m~/opt/anaconda3/lib/python3.9/site-packages/joblib/parallel.py\u001b[0m in \u001b[0;36m__call__\u001b[0;34m(self, iterable)\u001b[0m\n\u001b[1;32m   1054\u001b[0m \u001b[0;34m\u001b[0m\u001b[0m\n\u001b[1;32m   1055\u001b[0m             \u001b[0;32mwith\u001b[0m \u001b[0mself\u001b[0m\u001b[0;34m.\u001b[0m\u001b[0m_backend\u001b[0m\u001b[0;34m.\u001b[0m\u001b[0mretrieval_context\u001b[0m\u001b[0;34m(\u001b[0m\u001b[0;34m)\u001b[0m\u001b[0;34m:\u001b[0m\u001b[0;34m\u001b[0m\u001b[0;34m\u001b[0m\u001b[0m\n\u001b[0;32m-> 1056\u001b[0;31m                 \u001b[0mself\u001b[0m\u001b[0;34m.\u001b[0m\u001b[0mretrieve\u001b[0m\u001b[0;34m(\u001b[0m\u001b[0;34m)\u001b[0m\u001b[0;34m\u001b[0m\u001b[0;34m\u001b[0m\u001b[0m\n\u001b[0m\u001b[1;32m   1057\u001b[0m             \u001b[0;31m# Make sure that we get a last message telling us we are done\u001b[0m\u001b[0;34m\u001b[0m\u001b[0;34m\u001b[0m\u001b[0m\n\u001b[1;32m   1058\u001b[0m             \u001b[0melapsed_time\u001b[0m \u001b[0;34m=\u001b[0m \u001b[0mtime\u001b[0m\u001b[0;34m.\u001b[0m\u001b[0mtime\u001b[0m\u001b[0;34m(\u001b[0m\u001b[0;34m)\u001b[0m \u001b[0;34m-\u001b[0m \u001b[0mself\u001b[0m\u001b[0;34m.\u001b[0m\u001b[0m_start_time\u001b[0m\u001b[0;34m\u001b[0m\u001b[0;34m\u001b[0m\u001b[0m\n",
      "\u001b[0;32m~/opt/anaconda3/lib/python3.9/site-packages/joblib/parallel.py\u001b[0m in \u001b[0;36mretrieve\u001b[0;34m(self)\u001b[0m\n\u001b[1;32m    933\u001b[0m             \u001b[0;32mtry\u001b[0m\u001b[0;34m:\u001b[0m\u001b[0;34m\u001b[0m\u001b[0;34m\u001b[0m\u001b[0m\n\u001b[1;32m    934\u001b[0m                 \u001b[0;32mif\u001b[0m \u001b[0mgetattr\u001b[0m\u001b[0;34m(\u001b[0m\u001b[0mself\u001b[0m\u001b[0;34m.\u001b[0m\u001b[0m_backend\u001b[0m\u001b[0;34m,\u001b[0m \u001b[0;34m'supports_timeout'\u001b[0m\u001b[0;34m,\u001b[0m \u001b[0;32mFalse\u001b[0m\u001b[0;34m)\u001b[0m\u001b[0;34m:\u001b[0m\u001b[0;34m\u001b[0m\u001b[0;34m\u001b[0m\u001b[0m\n\u001b[0;32m--> 935\u001b[0;31m                     \u001b[0mself\u001b[0m\u001b[0;34m.\u001b[0m\u001b[0m_output\u001b[0m\u001b[0;34m.\u001b[0m\u001b[0mextend\u001b[0m\u001b[0;34m(\u001b[0m\u001b[0mjob\u001b[0m\u001b[0;34m.\u001b[0m\u001b[0mget\u001b[0m\u001b[0;34m(\u001b[0m\u001b[0mtimeout\u001b[0m\u001b[0;34m=\u001b[0m\u001b[0mself\u001b[0m\u001b[0;34m.\u001b[0m\u001b[0mtimeout\u001b[0m\u001b[0;34m)\u001b[0m\u001b[0;34m)\u001b[0m\u001b[0;34m\u001b[0m\u001b[0;34m\u001b[0m\u001b[0m\n\u001b[0m\u001b[1;32m    936\u001b[0m                 \u001b[0;32melse\u001b[0m\u001b[0;34m:\u001b[0m\u001b[0;34m\u001b[0m\u001b[0;34m\u001b[0m\u001b[0m\n\u001b[1;32m    937\u001b[0m                     \u001b[0mself\u001b[0m\u001b[0;34m.\u001b[0m\u001b[0m_output\u001b[0m\u001b[0;34m.\u001b[0m\u001b[0mextend\u001b[0m\u001b[0;34m(\u001b[0m\u001b[0mjob\u001b[0m\u001b[0;34m.\u001b[0m\u001b[0mget\u001b[0m\u001b[0;34m(\u001b[0m\u001b[0;34m)\u001b[0m\u001b[0;34m)\u001b[0m\u001b[0;34m\u001b[0m\u001b[0;34m\u001b[0m\u001b[0m\n",
      "\u001b[0;32m~/opt/anaconda3/lib/python3.9/site-packages/joblib/_parallel_backends.py\u001b[0m in \u001b[0;36mwrap_future_result\u001b[0;34m(future, timeout)\u001b[0m\n\u001b[1;32m    540\u001b[0m         AsyncResults.get from multiprocessing.\"\"\"\n\u001b[1;32m    541\u001b[0m         \u001b[0;32mtry\u001b[0m\u001b[0;34m:\u001b[0m\u001b[0;34m\u001b[0m\u001b[0;34m\u001b[0m\u001b[0m\n\u001b[0;32m--> 542\u001b[0;31m             \u001b[0;32mreturn\u001b[0m \u001b[0mfuture\u001b[0m\u001b[0;34m.\u001b[0m\u001b[0mresult\u001b[0m\u001b[0;34m(\u001b[0m\u001b[0mtimeout\u001b[0m\u001b[0;34m=\u001b[0m\u001b[0mtimeout\u001b[0m\u001b[0;34m)\u001b[0m\u001b[0;34m\u001b[0m\u001b[0;34m\u001b[0m\u001b[0m\n\u001b[0m\u001b[1;32m    543\u001b[0m         \u001b[0;32mexcept\u001b[0m \u001b[0mCfTimeoutError\u001b[0m \u001b[0;32mas\u001b[0m \u001b[0me\u001b[0m\u001b[0;34m:\u001b[0m\u001b[0;34m\u001b[0m\u001b[0;34m\u001b[0m\u001b[0m\n\u001b[1;32m    544\u001b[0m             \u001b[0;32mraise\u001b[0m \u001b[0mTimeoutError\u001b[0m \u001b[0;32mfrom\u001b[0m \u001b[0me\u001b[0m\u001b[0;34m\u001b[0m\u001b[0;34m\u001b[0m\u001b[0m\n",
      "\u001b[0;32m~/opt/anaconda3/lib/python3.9/concurrent/futures/_base.py\u001b[0m in \u001b[0;36mresult\u001b[0;34m(self, timeout)\u001b[0m\n\u001b[1;32m    439\u001b[0m                     \u001b[0;32mreturn\u001b[0m \u001b[0mself\u001b[0m\u001b[0;34m.\u001b[0m\u001b[0m__get_result\u001b[0m\u001b[0;34m(\u001b[0m\u001b[0;34m)\u001b[0m\u001b[0;34m\u001b[0m\u001b[0;34m\u001b[0m\u001b[0m\n\u001b[1;32m    440\u001b[0m \u001b[0;34m\u001b[0m\u001b[0m\n\u001b[0;32m--> 441\u001b[0;31m                 \u001b[0mself\u001b[0m\u001b[0;34m.\u001b[0m\u001b[0m_condition\u001b[0m\u001b[0;34m.\u001b[0m\u001b[0mwait\u001b[0m\u001b[0;34m(\u001b[0m\u001b[0mtimeout\u001b[0m\u001b[0;34m)\u001b[0m\u001b[0;34m\u001b[0m\u001b[0;34m\u001b[0m\u001b[0m\n\u001b[0m\u001b[1;32m    442\u001b[0m \u001b[0;34m\u001b[0m\u001b[0m\n\u001b[1;32m    443\u001b[0m                 \u001b[0;32mif\u001b[0m \u001b[0mself\u001b[0m\u001b[0;34m.\u001b[0m\u001b[0m_state\u001b[0m \u001b[0;32min\u001b[0m \u001b[0;34m[\u001b[0m\u001b[0mCANCELLED\u001b[0m\u001b[0;34m,\u001b[0m \u001b[0mCANCELLED_AND_NOTIFIED\u001b[0m\u001b[0;34m]\u001b[0m\u001b[0;34m:\u001b[0m\u001b[0;34m\u001b[0m\u001b[0;34m\u001b[0m\u001b[0m\n",
      "\u001b[0;32m~/opt/anaconda3/lib/python3.9/threading.py\u001b[0m in \u001b[0;36mwait\u001b[0;34m(self, timeout)\u001b[0m\n\u001b[1;32m    310\u001b[0m         \u001b[0;32mtry\u001b[0m\u001b[0;34m:\u001b[0m    \u001b[0;31m# restore state no matter what (e.g., KeyboardInterrupt)\u001b[0m\u001b[0;34m\u001b[0m\u001b[0;34m\u001b[0m\u001b[0m\n\u001b[1;32m    311\u001b[0m             \u001b[0;32mif\u001b[0m \u001b[0mtimeout\u001b[0m \u001b[0;32mis\u001b[0m \u001b[0;32mNone\u001b[0m\u001b[0;34m:\u001b[0m\u001b[0;34m\u001b[0m\u001b[0;34m\u001b[0m\u001b[0m\n\u001b[0;32m--> 312\u001b[0;31m                 \u001b[0mwaiter\u001b[0m\u001b[0;34m.\u001b[0m\u001b[0macquire\u001b[0m\u001b[0;34m(\u001b[0m\u001b[0;34m)\u001b[0m\u001b[0;34m\u001b[0m\u001b[0;34m\u001b[0m\u001b[0m\n\u001b[0m\u001b[1;32m    313\u001b[0m                 \u001b[0mgotit\u001b[0m \u001b[0;34m=\u001b[0m \u001b[0;32mTrue\u001b[0m\u001b[0;34m\u001b[0m\u001b[0;34m\u001b[0m\u001b[0m\n\u001b[1;32m    314\u001b[0m             \u001b[0;32melse\u001b[0m\u001b[0;34m:\u001b[0m\u001b[0;34m\u001b[0m\u001b[0;34m\u001b[0m\u001b[0m\n",
      "\u001b[0;31mKeyboardInterrupt\u001b[0m: "
     ]
    }
   ],
   "source": [
    "# Use the random grid to search for best hyperparameters\n",
    "# First create the base model to tune\n",
    "rf = RandomForestClassifier()\n",
    "# Random search of parameters, using 3 fold cross validation, \n",
    "# search across 100 different combinations, and use all available cores\n",
    "rf_random = RandomizedSearchCV(estimator = rf, param_distributions = random_grid, n_iter = 10, cv=2, verbose=2, random_state=42, n_jobs = -1)\n",
    "# Fit the random search model\n",
    "rf_random.fit(X_train, y_train)"
   ]
  },
  {
   "cell_type": "code",
   "execution_count": null,
   "id": "bc321895",
   "metadata": {},
   "outputs": [],
   "source": [
    "rf_random.best_params_"
   ]
  },
  {
   "cell_type": "code",
   "execution_count": 114,
   "id": "8a0ec292",
   "metadata": {},
   "outputs": [
    {
     "name": "stdout",
     "output_type": "stream",
     "text": [
      "0.04 1.1549004685221784\n",
      "0.05142857142857143 1.1738028450101843\n",
      "0.06285714285714286 1.183420338741019\n",
      "0.07428571428571429 1.1884960693288076\n",
      "0.08571428571428572 1.1982976537799122\n",
      "0.09714285714285714 1.200525748133727\n",
      "0.10857142857142857 1.2065611542432149\n",
      "0.12 1.217127607274374\n",
      "0.13142857142857142 1.222161722972053\n",
      "0.14285714285714285 1.2234449689018856\n",
      "0.15428571428571428 1.220175074807921\n",
      "0.16571428571428573 1.2202181830392775\n",
      "0.17714285714285716 1.2201338055314026\n",
      "0.18857142857142858 1.2206013223122723\n",
      "0.2 1.2176669632478174\n"
     ]
    }
   ],
   "source": [
    "rf = RandomForestClassifier(random_state=42, n_estimators=200, max_depth=8, min_samples_split=10,\n",
    "                            min_samples_leaf=4, max_features='auto')\n",
    "rf.fit(X_train, y_train)\n",
    "for threshold in np.linspace(0.04, 0.2, 15):\n",
    "    predicted_proba = rf.predict_proba(X_test)\n",
    "    y_pred = (predicted_proba [:,1] >= threshold).astype('int')\n",
    "    f1 = f1_score(y_test, y_pred)\n",
    "    auc = roc_auc_score(y_test, y_pred)\n",
    "    print(threshold, f1+auc)"
   ]
  },
  {
   "cell_type": "code",
   "execution_count": 127,
   "id": "72b3f4ec",
   "metadata": {},
   "outputs": [],
   "source": [
    "threshold = 0.11\n",
    "predicted_proba = rf.predict_proba(X_test)\n",
    "y_pred = (predicted_proba [:,1] >= threshold).astype('int')"
   ]
  },
  {
   "cell_type": "code",
   "execution_count": 128,
   "id": "67071fb9",
   "metadata": {},
   "outputs": [
    {
     "name": "stdout",
     "output_type": "stream",
     "text": [
      "0.9910846832737892 0.38097036058146116 0.8255457599279079\n"
     ]
    }
   ],
   "source": [
    "from sklearn.metrics import confusion_matrix, accuracy_score, f1_score, roc_auc_score\n",
    "cm = confusion_matrix(y_test, y_pred)\n",
    "acc = accuracy_score(y_test, y_pred)\n",
    "f1 = f1_score(y_test, y_pred)\n",
    "auc = roc_auc_score(y_test, y_pred)\n",
    "print(acc, f1, auc)"
   ]
  },
  {
   "cell_type": "code",
   "execution_count": 129,
   "id": "0f000c40",
   "metadata": {},
   "outputs": [
    {
     "data": {
      "text/plain": [
       "array([[363506,   2756],\n",
       "       [   523,   1009]])"
      ]
     },
     "execution_count": 129,
     "metadata": {},
     "output_type": "execute_result"
    }
   ],
   "source": [
    "cm"
   ]
  },
  {
   "cell_type": "markdown",
   "id": "4df80062",
   "metadata": {},
   "source": [
    "# xgboost"
   ]
  },
  {
   "cell_type": "code",
   "execution_count": 10,
   "id": "4391c9d7",
   "metadata": {},
   "outputs": [],
   "source": [
    "import xgboost as xgb"
   ]
  },
  {
   "cell_type": "code",
   "execution_count": 14,
   "id": "72a68499",
   "metadata": {},
   "outputs": [],
   "source": [
    "random_grid = [\n",
    "  {\n",
    "    'n_estimators': [50, 100, 150, 200],\n",
    "    'learning_rate': [0.01, 0.1, 0.2, 0.3],\n",
    "    'max_depth': range(3, 10),\n",
    "    'min_child_weight': range(11),\n",
    "    'gamma': [i/10.0 for i in range(4)],\n",
    "    'subsample': [i/10 for i in range(5, 9)],\n",
    "    'colsample_bytree': [i/10.0 for i in range(1, 9)]\n",
    "  }\n",
    "]"
   ]
  },
  {
   "cell_type": "code",
   "execution_count": 15,
   "id": "dd4a784b",
   "metadata": {},
   "outputs": [
    {
     "name": "stdout",
     "output_type": "stream",
     "text": [
      "Fitting 3 folds for each of 100 candidates, totalling 300 fits\n"
     ]
    },
    {
     "data": {
      "text/plain": [
       "RandomizedSearchCV(cv=3,\n",
       "                   estimator=XGBClassifier(base_score=None, booster=None,\n",
       "                                           callbacks=None,\n",
       "                                           colsample_bylevel=None,\n",
       "                                           colsample_bynode=None,\n",
       "                                           colsample_bytree=None,\n",
       "                                           early_stopping_rounds=None,\n",
       "                                           enable_categorical=False,\n",
       "                                           eval_metric=None, feature_types=None,\n",
       "                                           gamma=None, gpu_id=None,\n",
       "                                           grow_policy=None,\n",
       "                                           importance_type=None,\n",
       "                                           interaction_constraints=None,\n",
       "                                           learning_rate...\n",
       "                                           num_parallel_tree=None,\n",
       "                                           predictor=None, random_state=None, ...),\n",
       "                   n_iter=100, n_jobs=-1,\n",
       "                   param_distributions=[{'colsample_bytree': [0.1, 0.2, 0.3,\n",
       "                                                              0.4, 0.5, 0.6,\n",
       "                                                              0.7, 0.8],\n",
       "                                         'gamma': [0.0, 0.1, 0.2, 0.3],\n",
       "                                         'learning_rate': [0.01, 0.1, 0.2, 0.3],\n",
       "                                         'max_depth': range(3, 10),\n",
       "                                         'min_child_weight': range(0, 11),\n",
       "                                         'n_estimators': [50, 100, 150, 200],\n",
       "                                         'subsample': [0.5, 0.6, 0.7, 0.8]}],\n",
       "                   random_state=42, verbose=2)"
      ]
     },
     "execution_count": 15,
     "metadata": {},
     "output_type": "execute_result"
    },
    {
     "name": "stdout",
     "output_type": "stream",
     "text": [
      "[CV] END colsample_bytree=0.7, gamma=0.0, learning_rate=0.2, max_depth=9, min_child_weight=10, n_estimators=100, subsample=0.7; total time=  22.1s\n",
      "[CV] END colsample_bytree=0.6, gamma=0.2, learning_rate=0.1, max_depth=6, min_child_weight=5, n_estimators=200, subsample=0.5; total time=  33.9s\n",
      "[CV] END colsample_bytree=0.5, gamma=0.1, learning_rate=0.3, max_depth=3, min_child_weight=1, n_estimators=150, subsample=0.7; total time=  13.9s\n",
      "[CV] END colsample_bytree=0.7, gamma=0.1, learning_rate=0.2, max_depth=6, min_child_weight=8, n_estimators=100, subsample=0.5; total time=  18.5s\n",
      "[CV] END colsample_bytree=0.1, gamma=0.0, learning_rate=0.01, max_depth=7, min_child_weight=4, n_estimators=50, subsample=0.6; total time=   3.4s\n",
      "[CV] END colsample_bytree=0.4, gamma=0.0, learning_rate=0.01, max_depth=6, min_child_weight=4, n_estimators=100, subsample=0.8; total time=  12.7s\n",
      "[CV] END colsample_bytree=0.6, gamma=0.0, learning_rate=0.3, max_depth=9, min_child_weight=2, n_estimators=150, subsample=0.8; total time=  36.6s\n",
      "[CV] END colsample_bytree=0.5, gamma=0.1, learning_rate=0.01, max_depth=6, min_child_weight=10, n_estimators=200, subsample=0.7; total time=  30.5s\n",
      "[CV] END colsample_bytree=0.7, gamma=0.2, learning_rate=0.1, max_depth=9, min_child_weight=6, n_estimators=150, subsample=0.8; total time=  35.7s\n",
      "[CV] END colsample_bytree=0.7, gamma=0.2, learning_rate=0.1, max_depth=6, min_child_weight=5, n_estimators=200, subsample=0.6; total time=  40.0s\n",
      "[CV] END colsample_bytree=0.4, gamma=0.1, learning_rate=0.2, max_depth=8, min_child_weight=1, n_estimators=150, subsample=0.8; total time=  26.8s\n",
      "[CV] END colsample_bytree=0.1, gamma=0.2, learning_rate=0.1, max_depth=4, min_child_weight=8, n_estimators=50, subsample=0.7; total time=   2.9s\n",
      "[CV] END colsample_bytree=0.1, gamma=0.2, learning_rate=0.1, max_depth=4, min_child_weight=8, n_estimators=50, subsample=0.7; total time=   2.9s\n",
      "[CV] END colsample_bytree=0.4, gamma=0.2, learning_rate=0.01, max_depth=3, min_child_weight=6, n_estimators=100, subsample=0.5; total time=   9.1s\n",
      "[CV] END colsample_bytree=0.3, gamma=0.0, learning_rate=0.1, max_depth=8, min_child_weight=4, n_estimators=100, subsample=0.7; total time=  13.6s\n",
      "[CV] END colsample_bytree=0.1, gamma=0.1, learning_rate=0.3, max_depth=3, min_child_weight=10, n_estimators=150, subsample=0.5; total time=   7.7s\n",
      "[CV] END colsample_bytree=0.7, gamma=0.1, learning_rate=0.01, max_depth=8, min_child_weight=10, n_estimators=50, subsample=0.8; total time=  11.0s\n",
      "[CV] END colsample_bytree=0.7, gamma=0.0, learning_rate=0.1, max_depth=6, min_child_weight=8, n_estimators=200, subsample=0.7; total time=  41.0s\n",
      "[CV] END colsample_bytree=0.3, gamma=0.1, learning_rate=0.3, max_depth=5, min_child_weight=9, n_estimators=150, subsample=0.8; total time=  17.3s\n",
      "[CV] END colsample_bytree=0.6, gamma=0.1, learning_rate=0.2, max_depth=6, min_child_weight=3, n_estimators=50, subsample=0.7; total time=   9.9s\n",
      "[CV] END colsample_bytree=0.5, gamma=0.0, learning_rate=0.01, max_depth=9, min_child_weight=10, n_estimators=200, subsample=0.6; total time=  38.1s\n",
      "[CV] END colsample_bytree=0.6, gamma=0.0, learning_rate=0.01, max_depth=7, min_child_weight=2, n_estimators=50, subsample=0.8; total time=  10.1s\n",
      "[CV] END colsample_bytree=0.1, gamma=0.2, learning_rate=0.1, max_depth=5, min_child_weight=5, n_estimators=200, subsample=0.7; total time=  12.1s\n",
      "[CV] END colsample_bytree=0.1, gamma=0.0, learning_rate=0.01, max_depth=8, min_child_weight=8, n_estimators=150, subsample=0.5; total time=  10.6s\n",
      "[CV] END colsample_bytree=0.3, gamma=0.3, learning_rate=0.1, max_depth=3, min_child_weight=9, n_estimators=100, subsample=0.8; total time=   7.8s\n",
      "[CV] END colsample_bytree=0.2, gamma=0.0, learning_rate=0.3, max_depth=8, min_child_weight=0, n_estimators=200, subsample=0.5; total time=  23.8s\n",
      "[CV] END colsample_bytree=0.5, gamma=0.1, learning_rate=0.2, max_depth=6, min_child_weight=2, n_estimators=100, subsample=0.8; total time=  17.1s\n",
      "[CV] END colsample_bytree=0.2, gamma=0.3, learning_rate=0.2, max_depth=9, min_child_weight=1, n_estimators=200, subsample=0.5; total time=  26.4s\n",
      "[CV] END colsample_bytree=0.6, gamma=0.3, learning_rate=0.1, max_depth=4, min_child_weight=0, n_estimators=50, subsample=0.5; total time=   7.7s\n",
      "[CV] END colsample_bytree=0.3, gamma=0.0, learning_rate=0.1, max_depth=3, min_child_weight=7, n_estimators=100, subsample=0.7; total time=   7.8s\n",
      "[CV] END colsample_bytree=0.1, gamma=0.0, learning_rate=0.2, max_depth=3, min_child_weight=6, n_estimators=150, subsample=0.5; total time=   7.9s\n",
      "[CV] END colsample_bytree=0.7, gamma=0.3, learning_rate=0.01, max_depth=7, min_child_weight=0, n_estimators=100, subsample=0.8; total time=  21.8s\n",
      "[CV] END colsample_bytree=0.3, gamma=0.0, learning_rate=0.01, max_depth=3, min_child_weight=5, n_estimators=50, subsample=0.5; total time=   4.1s\n",
      "[CV] END colsample_bytree=0.1, gamma=0.2, learning_rate=0.3, max_depth=5, min_child_weight=5, n_estimators=50, subsample=0.7; total time=   3.1s\n",
      "[CV] END colsample_bytree=0.4, gamma=0.0, learning_rate=0.2, max_depth=4, min_child_weight=5, n_estimators=50, subsample=0.7; total time=   5.4s\n",
      "[CV] END colsample_bytree=0.1, gamma=0.2, learning_rate=0.2, max_depth=4, min_child_weight=10, n_estimators=150, subsample=0.7; total time=   8.3s\n",
      "[CV] END colsample_bytree=0.2, gamma=0.3, learning_rate=0.3, max_depth=5, min_child_weight=7, n_estimators=100, subsample=0.5; total time=   8.5s\n",
      "[CV] END colsample_bytree=0.4, gamma=0.1, learning_rate=0.01, max_depth=5, min_child_weight=5, n_estimators=150, subsample=0.6; total time=  18.6s\n",
      "[CV] END colsample_bytree=0.1, gamma=0.1, learning_rate=0.2, max_depth=8, min_child_weight=7, n_estimators=150, subsample=0.5; total time=  11.1s\n",
      "[CV] END colsample_bytree=0.2, gamma=0.2, learning_rate=0.01, max_depth=8, min_child_weight=5, n_estimators=100, subsample=0.8; total time=   9.4s\n",
      "[CV] END colsample_bytree=0.7, gamma=0.0, learning_rate=0.2, max_depth=9, min_child_weight=10, n_estimators=100, subsample=0.7; total time=  21.7s\n",
      "[CV] END colsample_bytree=0.7, gamma=0.0, learning_rate=0.1, max_depth=5, min_child_weight=1, n_estimators=100, subsample=0.8; total time=  15.0s\n",
      "[CV] END colsample_bytree=0.3, gamma=0.3, learning_rate=0.01, max_depth=6, min_child_weight=9, n_estimators=100, subsample=0.7; total time=  10.6s\n",
      "[CV] END colsample_bytree=0.5, gamma=0.1, learning_rate=0.3, max_depth=3, min_child_weight=1, n_estimators=150, subsample=0.7; total time=  13.7s\n",
      "[CV] END colsample_bytree=0.6, gamma=0.2, learning_rate=0.3, max_depth=6, min_child_weight=5, n_estimators=100, subsample=0.8; total time=  16.8s\n",
      "[CV] END colsample_bytree=0.3, gamma=0.0, learning_rate=0.1, max_depth=5, min_child_weight=5, n_estimators=50, subsample=0.7; total time=   5.1s\n",
      "[CV] END colsample_bytree=0.4, gamma=0.1, learning_rate=0.01, max_depth=7, min_child_weight=3, n_estimators=100, subsample=0.5; total time=  13.9s\n",
      "[CV] END colsample_bytree=0.4, gamma=0.1, learning_rate=0.01, max_depth=7, min_child_weight=9, n_estimators=200, subsample=0.6; total time=  26.3s\n",
      "[CV] END colsample_bytree=0.7, gamma=0.2, learning_rate=0.2, max_depth=3, min_child_weight=1, n_estimators=50, subsample=0.5; total time=   6.3s\n",
      "[CV] END colsample_bytree=0.8, gamma=0.3, learning_rate=0.3, max_depth=4, min_child_weight=5, n_estimators=150, subsample=0.7; total time=  24.0s\n",
      "[CV] END colsample_bytree=0.8, gamma=0.2, learning_rate=0.1, max_depth=5, min_child_weight=4, n_estimators=200, subsample=0.8; total time=  37.9s\n",
      "[CV] END colsample_bytree=0.7, gamma=0.1, learning_rate=0.01, max_depth=6, min_child_weight=7, n_estimators=200, subsample=0.8; total time=  37.1s\n",
      "[CV] END colsample_bytree=0.5, gamma=0.1, learning_rate=0.01, max_depth=7, min_child_weight=10, n_estimators=200, subsample=0.7; total time=  34.5s\n",
      "[CV] END colsample_bytree=0.4, gamma=0.1, learning_rate=0.2, max_depth=4, min_child_weight=6, n_estimators=50, subsample=0.8; total time=   5.2s\n",
      "[CV] END colsample_bytree=0.2, gamma=0.2, learning_rate=0.1, max_depth=7, min_child_weight=2, n_estimators=200, subsample=0.8; total time=  19.1s\n",
      "[CV] END colsample_bytree=0.1, gamma=0.0, learning_rate=0.3, max_depth=4, min_child_weight=1, n_estimators=50, subsample=0.7; total time=   2.9s\n",
      "[CV] END colsample_bytree=0.3, gamma=0.0, learning_rate=0.1, max_depth=8, min_child_weight=4, n_estimators=100, subsample=0.7; total time=  13.5s\n",
      "[CV] END colsample_bytree=0.1, gamma=0.1, learning_rate=0.3, max_depth=3, min_child_weight=10, n_estimators=150, subsample=0.5; total time=   7.8s\n",
      "[CV] END colsample_bytree=0.7, gamma=0.1, learning_rate=0.01, max_depth=8, min_child_weight=10, n_estimators=50, subsample=0.8; total time=  11.0s\n",
      "[CV] END colsample_bytree=0.7, gamma=0.0, learning_rate=0.1, max_depth=6, min_child_weight=8, n_estimators=200, subsample=0.7; total time=  40.7s\n",
      "[CV] END colsample_bytree=0.3, gamma=0.1, learning_rate=0.3, max_depth=5, min_child_weight=9, n_estimators=150, subsample=0.8; total time=  17.6s\n",
      "[CV] END colsample_bytree=0.6, gamma=0.1, learning_rate=0.2, max_depth=6, min_child_weight=3, n_estimators=50, subsample=0.7; total time=   9.3s\n",
      "[CV] END colsample_bytree=0.2, gamma=0.3, learning_rate=0.1, max_depth=4, min_child_weight=1, n_estimators=50, subsample=0.5; total time=   3.9s\n",
      "[CV] END colsample_bytree=0.1, gamma=0.3, learning_rate=0.3, max_depth=8, min_child_weight=6, n_estimators=50, subsample=0.6; total time=   4.1s\n",
      "[CV] END colsample_bytree=0.1, gamma=0.3, learning_rate=0.3, max_depth=8, min_child_weight=6, n_estimators=50, subsample=0.6; total time=   4.0s\n",
      "[CV] END colsample_bytree=0.5, gamma=0.0, learning_rate=0.01, max_depth=3, min_child_weight=6, n_estimators=150, subsample=0.6; total time=  16.3s\n",
      "[CV] END colsample_bytree=0.3, gamma=0.2, learning_rate=0.3, max_depth=3, min_child_weight=1, n_estimators=50, subsample=0.8; total time=   4.0s\n",
      "[CV] END colsample_bytree=0.2, gamma=0.3, learning_rate=0.2, max_depth=3, min_child_weight=6, n_estimators=150, subsample=0.6; total time=  10.2s\n",
      "[CV] END colsample_bytree=0.6, gamma=0.0, learning_rate=0.01, max_depth=7, min_child_weight=2, n_estimators=50, subsample=0.8; total time=   9.7s\n",
      "[CV] END colsample_bytree=0.5, gamma=0.2, learning_rate=0.2, max_depth=4, min_child_weight=2, n_estimators=150, subsample=0.8; total time=  18.8s\n",
      "[CV] END colsample_bytree=0.3, gamma=0.3, learning_rate=0.1, max_depth=3, min_child_weight=9, n_estimators=100, subsample=0.8; total time=   7.7s\n",
      "[CV] END colsample_bytree=0.5, gamma=0.0, learning_rate=0.3, max_depth=4, min_child_weight=4, n_estimators=200, subsample=0.7; total time=  24.9s\n",
      "[CV] END colsample_bytree=0.1, gamma=0.2, learning_rate=0.1, max_depth=9, min_child_weight=2, n_estimators=150, subsample=0.6; total time=  11.8s\n",
      "[CV] END colsample_bytree=0.8, gamma=0.0, learning_rate=0.1, max_depth=5, min_child_weight=4, n_estimators=150, subsample=0.8; total time=  30.6s\n",
      "[CV] END colsample_bytree=0.6, gamma=0.3, learning_rate=0.1, max_depth=4, min_child_weight=0, n_estimators=50, subsample=0.5; total time=   7.7s\n",
      "[CV] END colsample_bytree=0.1, gamma=0.0, learning_rate=0.2, max_depth=3, min_child_weight=6, n_estimators=150, subsample=0.5; total time=   7.9s\n",
      "[CV] END colsample_bytree=0.7, gamma=0.0, learning_rate=0.1, max_depth=6, min_child_weight=7, n_estimators=100, subsample=0.8; total time=  18.1s\n",
      "[CV] END colsample_bytree=0.7, gamma=0.1, learning_rate=0.01, max_depth=9, min_child_weight=7, n_estimators=100, subsample=0.8; total time=  21.4s\n",
      "[CV] END colsample_bytree=0.7, gamma=0.2, learning_rate=0.01, max_depth=9, min_child_weight=8, n_estimators=50, subsample=0.5; total time=  10.6s\n",
      "[CV] END colsample_bytree=0.2, gamma=0.3, learning_rate=0.3, max_depth=5, min_child_weight=7, n_estimators=100, subsample=0.5; total time=   8.4s\n",
      "[CV] END colsample_bytree=0.4, gamma=0.1, learning_rate=0.01, max_depth=5, min_child_weight=5, n_estimators=150, subsample=0.6; total time=  18.4s\n",
      "[CV] END colsample_bytree=0.2, gamma=0.0, learning_rate=0.2, max_depth=5, min_child_weight=8, n_estimators=100, subsample=0.7; total time=   7.9s\n",
      "[CV] END colsample_bytree=0.2, gamma=0.2, learning_rate=0.01, max_depth=8, min_child_weight=5, n_estimators=100, subsample=0.8; total time=   9.4s\n",
      "[CV] END colsample_bytree=0.3, gamma=0.2, learning_rate=0.2, max_depth=5, min_child_weight=10, n_estimators=50, subsample=0.5; total time=   5.5s\n"
     ]
    },
    {
     "name": "stdout",
     "output_type": "stream",
     "text": [
      "[CV] END colsample_bytree=0.8, gamma=0.1, learning_rate=0.3, max_depth=4, min_child_weight=5, n_estimators=50, subsample=0.8; total time=   7.4s\n",
      "[CV] END colsample_bytree=0.6, gamma=0.1, learning_rate=0.01, max_depth=4, min_child_weight=1, n_estimators=200, subsample=0.7; total time=  24.2s\n",
      "[CV] END colsample_bytree=0.6, gamma=0.2, learning_rate=0.1, max_depth=6, min_child_weight=5, n_estimators=200, subsample=0.5; total time=  34.0s\n",
      "[CV] END colsample_bytree=0.7, gamma=0.1, learning_rate=0.2, max_depth=6, min_child_weight=8, n_estimators=100, subsample=0.5; total time=  18.2s\n",
      "[CV] END colsample_bytree=0.4, gamma=0.1, learning_rate=0.01, max_depth=7, min_child_weight=3, n_estimators=100, subsample=0.5; total time=  14.1s\n",
      "[CV] END colsample_bytree=0.1, gamma=0.1, learning_rate=0.01, max_depth=5, min_child_weight=1, n_estimators=200, subsample=0.8; total time=  10.9s\n",
      "[CV] END colsample_bytree=0.5, gamma=0.1, learning_rate=0.1, max_depth=4, min_child_weight=7, n_estimators=150, subsample=0.6; total time=  18.7s\n",
      "[CV] END colsample_bytree=0.7, gamma=0.2, learning_rate=0.2, max_depth=3, min_child_weight=1, n_estimators=50, subsample=0.5; total time=   6.0s\n",
      "[CV] END colsample_bytree=0.5, gamma=0.1, learning_rate=0.01, max_depth=6, min_child_weight=10, n_estimators=200, subsample=0.7; total time=  31.4s\n",
      "[CV] END colsample_bytree=0.8, gamma=0.2, learning_rate=0.1, max_depth=5, min_child_weight=4, n_estimators=200, subsample=0.8; total time=  37.8s\n",
      "[CV] END colsample_bytree=0.4, gamma=0.1, learning_rate=0.1, max_depth=5, min_child_weight=4, n_estimators=200, subsample=0.6; total time=  24.3s\n",
      "[CV] END colsample_bytree=0.5, gamma=0.1, learning_rate=0.01, max_depth=7, min_child_weight=10, n_estimators=200, subsample=0.7; total time=  35.1s\n",
      "[CV] END colsample_bytree=0.3, gamma=0.3, learning_rate=0.2, max_depth=4, min_child_weight=2, n_estimators=100, subsample=0.7; total time=   9.8s\n",
      "[CV] END colsample_bytree=0.6, gamma=0.3, learning_rate=0.2, max_depth=5, min_child_weight=3, n_estimators=150, subsample=0.5; total time=  25.1s\n",
      "[CV] END colsample_bytree=0.8, gamma=0.0, learning_rate=0.3, max_depth=3, min_child_weight=1, n_estimators=50, subsample=0.8; total time=   6.7s\n",
      "[CV] END colsample_bytree=0.8, gamma=0.3, learning_rate=0.1, max_depth=8, min_child_weight=5, n_estimators=150, subsample=0.6; total time=  43.8s\n",
      "[CV] END colsample_bytree=0.7, gamma=0.1, learning_rate=0.01, max_depth=9, min_child_weight=6, n_estimators=100, subsample=0.7; total time=  23.8s\n",
      "[CV] END colsample_bytree=0.1, gamma=0.3, learning_rate=0.1, max_depth=9, min_child_weight=5, n_estimators=100, subsample=0.8; total time=   8.3s\n",
      "[CV] END colsample_bytree=0.6, gamma=0.2, learning_rate=0.1, max_depth=7, min_child_weight=9, n_estimators=200, subsample=0.7; total time=  40.8s\n",
      "[CV] END colsample_bytree=0.1, gamma=0.1, learning_rate=0.3, max_depth=9, min_child_weight=0, n_estimators=200, subsample=0.5; total time=  19.2s\n",
      "[CV] END colsample_bytree=0.3, gamma=0.0, learning_rate=0.01, max_depth=8, min_child_weight=5, n_estimators=200, subsample=0.6; total time=  27.7s\n",
      "[CV] END colsample_bytree=0.2, gamma=0.0, learning_rate=0.2, max_depth=9, min_child_weight=0, n_estimators=200, subsample=0.8; total time=  23.9s\n",
      "[CV] END colsample_bytree=0.1, gamma=0.1, learning_rate=0.3, max_depth=6, min_child_weight=7, n_estimators=100, subsample=0.5; total time=   7.3s\n",
      "[CV] END colsample_bytree=0.1, gamma=0.2, learning_rate=0.1, max_depth=9, min_child_weight=2, n_estimators=150, subsample=0.6; total time=  12.3s\n",
      "[CV] END colsample_bytree=0.3, gamma=0.2, learning_rate=0.1, max_depth=6, min_child_weight=10, n_estimators=200, subsample=0.7; total time=  25.2s\n",
      "[CV] END colsample_bytree=0.6, gamma=0.3, learning_rate=0.1, max_depth=4, min_child_weight=0, n_estimators=50, subsample=0.5; total time=   7.8s\n",
      "[CV] END colsample_bytree=0.3, gamma=0.0, learning_rate=0.1, max_depth=3, min_child_weight=7, n_estimators=100, subsample=0.7; total time=   7.8s\n",
      "[CV] END colsample_bytree=0.7, gamma=0.0, learning_rate=0.1, max_depth=6, min_child_weight=7, n_estimators=100, subsample=0.8; total time=  18.4s\n",
      "[CV] END colsample_bytree=0.7, gamma=0.3, learning_rate=0.2, max_depth=7, min_child_weight=6, n_estimators=150, subsample=0.7; total time=  33.3s\n",
      "[CV] END colsample_bytree=0.7, gamma=0.3, learning_rate=0.1, max_depth=4, min_child_weight=10, n_estimators=150, subsample=0.6; total time=  21.8s\n",
      "[CV] END colsample_bytree=0.2, gamma=0.0, learning_rate=0.2, max_depth=5, min_child_weight=8, n_estimators=100, subsample=0.7; total time=   8.0s\n",
      "[CV] END colsample_bytree=0.1, gamma=0.1, learning_rate=0.2, max_depth=8, min_child_weight=7, n_estimators=150, subsample=0.5; total time=  11.2s\n",
      "[CV] END colsample_bytree=0.6, gamma=0.3, learning_rate=0.01, max_depth=4, min_child_weight=3, n_estimators=50, subsample=0.6; total time=   7.4s\n",
      "[CV] END colsample_bytree=0.7, gamma=0.2, learning_rate=0.3, max_depth=3, min_child_weight=6, n_estimators=200, subsample=0.5; total time=  20.8s\n",
      "[CV] END colsample_bytree=0.6, gamma=0.1, learning_rate=0.01, max_depth=4, min_child_weight=1, n_estimators=200, subsample=0.7; total time=  24.4s\n",
      "[CV] END colsample_bytree=0.7, gamma=0.3, learning_rate=0.3, max_depth=6, min_child_weight=3, n_estimators=150, subsample=0.6; total time=  29.0s\n",
      "[CV] END colsample_bytree=0.1, gamma=0.3, learning_rate=0.1, max_depth=3, min_child_weight=0, n_estimators=100, subsample=0.8; total time=   4.6s\n",
      "[CV] END colsample_bytree=0.4, gamma=0.1, learning_rate=0.2, max_depth=6, min_child_weight=10, n_estimators=100, subsample=0.6; total time=  13.1s\n",
      "[CV] END colsample_bytree=0.4, gamma=0.0, learning_rate=0.01, max_depth=6, min_child_weight=4, n_estimators=100, subsample=0.8; total time=  12.8s\n",
      "[CV] END colsample_bytree=0.6, gamma=0.0, learning_rate=0.3, max_depth=9, min_child_weight=2, n_estimators=150, subsample=0.8; total time=  36.5s\n",
      "[CV] END colsample_bytree=0.7, gamma=0.0, learning_rate=0.3, max_depth=6, min_child_weight=2, n_estimators=150, subsample=0.6; total time=  31.0s\n",
      "[CV] END colsample_bytree=0.7, gamma=0.2, learning_rate=0.1, max_depth=9, min_child_weight=6, n_estimators=150, subsample=0.8; total time=  36.2s\n",
      "[CV] END colsample_bytree=0.7, gamma=0.2, learning_rate=0.1, max_depth=6, min_child_weight=5, n_estimators=200, subsample=0.6; total time=  39.9s\n",
      "[CV] END colsample_bytree=0.4, gamma=0.1, learning_rate=0.2, max_depth=8, min_child_weight=1, n_estimators=150, subsample=0.8; total time=  27.2s\n",
      "[CV] END colsample_bytree=0.1, gamma=0.2, learning_rate=0.1, max_depth=4, min_child_weight=8, n_estimators=50, subsample=0.7; total time=   2.9s\n",
      "[CV] END colsample_bytree=0.4, gamma=0.2, learning_rate=0.01, max_depth=3, min_child_weight=6, n_estimators=100, subsample=0.5; total time=   9.2s\n",
      "[CV] END colsample_bytree=0.1, gamma=0.0, learning_rate=0.3, max_depth=4, min_child_weight=1, n_estimators=50, subsample=0.7; total time=   2.9s\n",
      "[CV] END colsample_bytree=0.3, gamma=0.0, learning_rate=0.1, max_depth=8, min_child_weight=4, n_estimators=100, subsample=0.7; total time=  13.4s\n",
      "[CV] END colsample_bytree=0.8, gamma=0.3, learning_rate=0.1, max_depth=8, min_child_weight=5, n_estimators=150, subsample=0.6; total time=  42.6s\n",
      "[CV] END colsample_bytree=0.8, gamma=0.3, learning_rate=0.1, max_depth=6, min_child_weight=1, n_estimators=150, subsample=0.8; total time=  36.3s\n",
      "[CV] END colsample_bytree=0.5, gamma=0.0, learning_rate=0.01, max_depth=9, min_child_weight=10, n_estimators=200, subsample=0.6; total time=  38.5s\n",
      "[CV] END colsample_bytree=0.1, gamma=0.1, learning_rate=0.3, max_depth=9, min_child_weight=0, n_estimators=200, subsample=0.5; total time=  19.0s\n",
      "[CV] END colsample_bytree=0.3, gamma=0.0, learning_rate=0.01, max_depth=8, min_child_weight=5, n_estimators=200, subsample=0.6; total time=  27.9s\n",
      "[CV] END colsample_bytree=0.2, gamma=0.0, learning_rate=0.3, max_depth=8, min_child_weight=0, n_estimators=200, subsample=0.5; total time=  23.6s\n",
      "[CV] END colsample_bytree=0.1, gamma=0.1, learning_rate=0.3, max_depth=6, min_child_weight=7, n_estimators=100, subsample=0.5; total time=   7.2s\n",
      "[CV] END colsample_bytree=0.8, gamma=0.0, learning_rate=0.1, max_depth=5, min_child_weight=4, n_estimators=150, subsample=0.8; total time=  30.2s\n",
      "[CV] END colsample_bytree=0.3, gamma=0.2, learning_rate=0.1, max_depth=6, min_child_weight=10, n_estimators=200, subsample=0.7; total time=  24.2s\n",
      "[CV] END colsample_bytree=0.7, gamma=0.0, learning_rate=0.1, max_depth=6, min_child_weight=7, n_estimators=100, subsample=0.8; total time=  18.1s\n",
      "[CV] END colsample_bytree=0.7, gamma=0.3, learning_rate=0.2, max_depth=7, min_child_weight=6, n_estimators=150, subsample=0.7; total time=  32.8s\n",
      "[CV] END colsample_bytree=0.7, gamma=0.3, learning_rate=0.1, max_depth=4, min_child_weight=10, n_estimators=150, subsample=0.6; total time=  21.7s\n",
      "[CV] END colsample_bytree=0.2, gamma=0.0, learning_rate=0.2, max_depth=5, min_child_weight=8, n_estimators=100, subsample=0.7; total time=   7.9s\n",
      "[CV] END colsample_bytree=0.1, gamma=0.1, learning_rate=0.2, max_depth=8, min_child_weight=7, n_estimators=150, subsample=0.5; total time=  11.0s\n",
      "[CV] END colsample_bytree=0.6, gamma=0.3, learning_rate=0.01, max_depth=4, min_child_weight=3, n_estimators=50, subsample=0.6; total time=   7.4s\n"
     ]
    },
    {
     "name": "stdout",
     "output_type": "stream",
     "text": [
      "[CV] END colsample_bytree=0.7, gamma=0.2, learning_rate=0.3, max_depth=3, min_child_weight=6, n_estimators=200, subsample=0.5; total time=  20.9s\n",
      "[CV] END colsample_bytree=0.7, gamma=0.0, learning_rate=0.1, max_depth=5, min_child_weight=1, n_estimators=100, subsample=0.8; total time=  15.1s\n",
      "[CV] END colsample_bytree=0.3, gamma=0.3, learning_rate=0.01, max_depth=6, min_child_weight=9, n_estimators=100, subsample=0.7; total time=  10.7s\n",
      "[CV] END colsample_bytree=0.5, gamma=0.1, learning_rate=0.3, max_depth=3, min_child_weight=1, n_estimators=150, subsample=0.7; total time=  13.7s\n",
      "[CV] END colsample_bytree=0.6, gamma=0.2, learning_rate=0.3, max_depth=6, min_child_weight=5, n_estimators=100, subsample=0.8; total time=  16.9s\n",
      "[CV] END colsample_bytree=0.3, gamma=0.0, learning_rate=0.1, max_depth=5, min_child_weight=5, n_estimators=50, subsample=0.7; total time=   5.2s\n",
      "[CV] END colsample_bytree=0.4, gamma=0.1, learning_rate=0.2, max_depth=6, min_child_weight=10, n_estimators=100, subsample=0.6; total time=  13.4s\n",
      "[CV] END colsample_bytree=0.4, gamma=0.1, learning_rate=0.01, max_depth=7, min_child_weight=9, n_estimators=200, subsample=0.6; total time=  27.0s\n",
      "[CV] END colsample_bytree=0.7, gamma=0.2, learning_rate=0.2, max_depth=3, min_child_weight=1, n_estimators=50, subsample=0.5; total time=   6.3s\n",
      "[CV] END colsample_bytree=0.8, gamma=0.3, learning_rate=0.3, max_depth=4, min_child_weight=5, n_estimators=150, subsample=0.7; total time=  24.1s\n",
      "[CV] END colsample_bytree=0.7, gamma=0.0, learning_rate=0.3, max_depth=6, min_child_weight=2, n_estimators=150, subsample=0.6; total time=  30.8s\n",
      "[CV] END colsample_bytree=0.1, gamma=0.0, learning_rate=0.2, max_depth=4, min_child_weight=6, n_estimators=150, subsample=0.8; total time=   8.0s\n",
      "[CV] END colsample_bytree=0.7, gamma=0.1, learning_rate=0.01, max_depth=6, min_child_weight=7, n_estimators=200, subsample=0.8; total time=  36.4s\n",
      "[CV] END colsample_bytree=0.7, gamma=0.0, learning_rate=0.01, max_depth=9, min_child_weight=1, n_estimators=50, subsample=0.7; total time=  12.6s\n",
      "[CV] END colsample_bytree=0.7, gamma=0.0, learning_rate=0.01, max_depth=9, min_child_weight=1, n_estimators=50, subsample=0.7; total time=  13.5s\n",
      "[CV] END colsample_bytree=0.3, gamma=0.3, learning_rate=0.2, max_depth=4, min_child_weight=2, n_estimators=100, subsample=0.7; total time=   9.6s\n",
      "[CV] END colsample_bytree=0.4, gamma=0.1, learning_rate=0.2, max_depth=4, min_child_weight=6, n_estimators=50, subsample=0.8; total time=   5.2s\n",
      "[CV] END colsample_bytree=0.6, gamma=0.3, learning_rate=0.2, max_depth=5, min_child_weight=3, n_estimators=150, subsample=0.5; total time=  24.7s\n",
      "[CV] END colsample_bytree=0.5, gamma=0.1, learning_rate=0.2, max_depth=9, min_child_weight=1, n_estimators=50, subsample=0.6; total time=  10.8s\n",
      "[CV] END colsample_bytree=0.8, gamma=0.3, learning_rate=0.1, max_depth=8, min_child_weight=5, n_estimators=150, subsample=0.6; total time=  42.8s\n",
      "[CV] END colsample_bytree=0.7, gamma=0.1, learning_rate=0.01, max_depth=9, min_child_weight=6, n_estimators=100, subsample=0.7; total time=  23.4s\n",
      "[CV] END colsample_bytree=0.1, gamma=0.3, learning_rate=0.1, max_depth=9, min_child_weight=5, n_estimators=100, subsample=0.8; total time=   7.9s\n",
      "[CV] END colsample_bytree=0.6, gamma=0.2, learning_rate=0.1, max_depth=7, min_child_weight=9, n_estimators=200, subsample=0.7; total time=  41.0s\n",
      "[CV] END colsample_bytree=0.3, gamma=0.2, learning_rate=0.3, max_depth=3, min_child_weight=1, n_estimators=50, subsample=0.8; total time=   4.3s\n",
      "[CV] END colsample_bytree=0.2, gamma=0.3, learning_rate=0.2, max_depth=3, min_child_weight=6, n_estimators=150, subsample=0.6; total time=   9.9s\n",
      "[CV] END colsample_bytree=0.1, gamma=0.2, learning_rate=0.1, max_depth=5, min_child_weight=5, n_estimators=200, subsample=0.7; total time=  12.0s\n",
      "[CV] END colsample_bytree=0.1, gamma=0.0, learning_rate=0.01, max_depth=8, min_child_weight=8, n_estimators=150, subsample=0.5; total time=  10.6s\n",
      "[CV] END colsample_bytree=0.1, gamma=0.0, learning_rate=0.01, max_depth=8, min_child_weight=8, n_estimators=150, subsample=0.5; total time=  10.8s\n",
      "[CV] END colsample_bytree=0.2, gamma=0.0, learning_rate=0.2, max_depth=9, min_child_weight=0, n_estimators=200, subsample=0.8; total time=  23.9s\n",
      "[CV] END colsample_bytree=0.1, gamma=0.1, learning_rate=0.3, max_depth=6, min_child_weight=7, n_estimators=100, subsample=0.5; total time=   7.1s\n",
      "[CV] END colsample_bytree=0.1, gamma=0.2, learning_rate=0.1, max_depth=9, min_child_weight=2, n_estimators=150, subsample=0.6; total time=  12.2s\n",
      "[CV] END colsample_bytree=0.2, gamma=0.3, learning_rate=0.2, max_depth=9, min_child_weight=1, n_estimators=200, subsample=0.5; total time=  25.7s\n",
      "[CV] END colsample_bytree=0.3, gamma=0.1, learning_rate=0.3, max_depth=8, min_child_weight=3, n_estimators=150, subsample=0.5; total time=  24.3s\n",
      "[CV] END colsample_bytree=0.7, gamma=0.3, learning_rate=0.01, max_depth=7, min_child_weight=0, n_estimators=100, subsample=0.8; total time=  21.6s\n",
      "[CV] END colsample_bytree=0.3, gamma=0.0, learning_rate=0.01, max_depth=3, min_child_weight=5, n_estimators=50, subsample=0.5; total time=   4.1s\n",
      "[CV] END colsample_bytree=0.1, gamma=0.2, learning_rate=0.3, max_depth=5, min_child_weight=5, n_estimators=50, subsample=0.7; total time=   3.2s\n",
      "[CV] END colsample_bytree=0.7, gamma=0.2, learning_rate=0.01, max_depth=9, min_child_weight=8, n_estimators=50, subsample=0.5; total time=  10.7s\n",
      "[CV] END colsample_bytree=0.1, gamma=0.2, learning_rate=0.2, max_depth=4, min_child_weight=10, n_estimators=150, subsample=0.7; total time=   8.3s\n",
      "[CV] END colsample_bytree=0.2, gamma=0.1, learning_rate=0.1, max_depth=8, min_child_weight=6, n_estimators=100, subsample=0.7; total time=   9.4s\n",
      "[CV] END colsample_bytree=0.4, gamma=0.1, learning_rate=0.01, max_depth=5, min_child_weight=5, n_estimators=150, subsample=0.6; total time=  18.1s\n",
      "[CV] END colsample_bytree=0.2, gamma=0.2, learning_rate=0.01, max_depth=8, min_child_weight=5, n_estimators=100, subsample=0.8; total time=   9.1s\n",
      "[CV] END colsample_bytree=0.6, gamma=0.3, learning_rate=0.01, max_depth=4, min_child_weight=3, n_estimators=50, subsample=0.6; total time=   7.3s\n",
      "[CV] END colsample_bytree=0.8, gamma=0.1, learning_rate=0.3, max_depth=4, min_child_weight=5, n_estimators=50, subsample=0.8; total time=   7.4s\n",
      "[CV] END colsample_bytree=0.6, gamma=0.1, learning_rate=0.01, max_depth=4, min_child_weight=1, n_estimators=200, subsample=0.7; total time=  24.2s\n",
      "[CV] END colsample_bytree=0.3, gamma=0.3, learning_rate=0.01, max_depth=6, min_child_weight=9, n_estimators=100, subsample=0.7; total time=  10.5s\n",
      "[CV] END colsample_bytree=0.7, gamma=0.3, learning_rate=0.3, max_depth=6, min_child_weight=3, n_estimators=150, subsample=0.6; total time=  29.0s\n",
      "[CV] END colsample_bytree=0.1, gamma=0.3, learning_rate=0.1, max_depth=3, min_child_weight=0, n_estimators=100, subsample=0.8; total time=   4.5s\n",
      "[CV] END colsample_bytree=0.1, gamma=0.3, learning_rate=0.1, max_depth=3, min_child_weight=0, n_estimators=100, subsample=0.8; total time=   4.5s\n",
      "[CV] END colsample_bytree=0.4, gamma=0.1, learning_rate=0.2, max_depth=6, min_child_weight=10, n_estimators=100, subsample=0.6; total time=  13.0s\n",
      "[CV] END colsample_bytree=0.4, gamma=0.1, learning_rate=0.01, max_depth=7, min_child_weight=9, n_estimators=200, subsample=0.6; total time=  27.1s\n",
      "[CV] END colsample_bytree=0.5, gamma=0.1, learning_rate=0.1, max_depth=4, min_child_weight=7, n_estimators=150, subsample=0.6; total time=  18.7s\n",
      "[CV] END colsample_bytree=0.5, gamma=0.1, learning_rate=0.01, max_depth=6, min_child_weight=10, n_estimators=200, subsample=0.7; total time=  31.1s\n",
      "[CV] END colsample_bytree=0.7, gamma=0.2, learning_rate=0.1, max_depth=9, min_child_weight=6, n_estimators=150, subsample=0.8; total time=  36.2s\n",
      "[CV] END colsample_bytree=0.4, gamma=0.1, learning_rate=0.1, max_depth=5, min_child_weight=4, n_estimators=200, subsample=0.6; total time=  24.1s\n",
      "[CV] END colsample_bytree=0.7, gamma=0.0, learning_rate=0.01, max_depth=9, min_child_weight=1, n_estimators=50, subsample=0.7; total time=  12.7s\n",
      "[CV] END colsample_bytree=0.4, gamma=0.1, learning_rate=0.2, max_depth=8, min_child_weight=1, n_estimators=150, subsample=0.8; total time=  27.0s\n",
      "[CV] END colsample_bytree=0.6, gamma=0.3, learning_rate=0.2, max_depth=5, min_child_weight=3, n_estimators=150, subsample=0.5; total time=  24.9s\n",
      "[CV] END colsample_bytree=0.5, gamma=0.1, learning_rate=0.2, max_depth=9, min_child_weight=1, n_estimators=50, subsample=0.6; total time=  11.0s\n",
      "[CV] END colsample_bytree=0.4, gamma=0.1, learning_rate=0.3, max_depth=5, min_child_weight=2, n_estimators=100, subsample=0.5; total time=  13.1s\n",
      "[CV] END colsample_bytree=0.7, gamma=0.1, learning_rate=0.01, max_depth=8, min_child_weight=10, n_estimators=50, subsample=0.8; total time=  11.6s\n",
      "[CV] END colsample_bytree=0.8, gamma=0.3, learning_rate=0.1, max_depth=6, min_child_weight=1, n_estimators=150, subsample=0.8; total time=  35.4s\n",
      "[CV] END colsample_bytree=0.1, gamma=0.3, learning_rate=0.1, max_depth=9, min_child_weight=5, n_estimators=100, subsample=0.8; total time=   7.7s\n",
      "[CV] END colsample_bytree=0.6, gamma=0.2, learning_rate=0.1, max_depth=7, min_child_weight=9, n_estimators=200, subsample=0.7; total time=  42.1s\n",
      "[CV] END colsample_bytree=0.5, gamma=0.0, learning_rate=0.01, max_depth=3, min_child_weight=6, n_estimators=150, subsample=0.6; total time=  16.3s\n",
      "[CV] END colsample_bytree=0.6, gamma=0.0, learning_rate=0.01, max_depth=7, min_child_weight=2, n_estimators=50, subsample=0.8; total time=   9.8s\n",
      "[CV] END colsample_bytree=0.5, gamma=0.2, learning_rate=0.2, max_depth=4, min_child_weight=2, n_estimators=150, subsample=0.8; total time=  18.7s\n",
      "[CV] END colsample_bytree=0.3, gamma=0.3, learning_rate=0.1, max_depth=3, min_child_weight=9, n_estimators=100, subsample=0.8; total time=   7.9s\n",
      "[CV] END colsample_bytree=0.5, gamma=0.0, learning_rate=0.3, max_depth=4, min_child_weight=4, n_estimators=200, subsample=0.7; total time=  24.9s\n",
      "[CV] END colsample_bytree=0.5, gamma=0.1, learning_rate=0.2, max_depth=6, min_child_weight=2, n_estimators=100, subsample=0.8; total time=  17.4s\n",
      "[CV] END colsample_bytree=0.2, gamma=0.3, learning_rate=0.2, max_depth=9, min_child_weight=1, n_estimators=200, subsample=0.5; total time=  25.8s\n",
      "[CV] END colsample_bytree=0.3, gamma=0.1, learning_rate=0.3, max_depth=8, min_child_weight=3, n_estimators=150, subsample=0.5; total time=  24.6s\n",
      "[CV] END colsample_bytree=0.7, gamma=0.1, learning_rate=0.01, max_depth=9, min_child_weight=7, n_estimators=100, subsample=0.8; total time=  21.7s\n",
      "[CV] END colsample_bytree=0.3, gamma=0.0, learning_rate=0.01, max_depth=3, min_child_weight=5, n_estimators=50, subsample=0.5; total time=   4.1s\n",
      "[CV] END colsample_bytree=0.4, gamma=0.0, learning_rate=0.2, max_depth=4, min_child_weight=5, n_estimators=50, subsample=0.7; total time=   5.4s\n",
      "[CV] END colsample_bytree=0.1, gamma=0.2, learning_rate=0.2, max_depth=4, min_child_weight=10, n_estimators=150, subsample=0.7; total time=   8.3s\n",
      "[CV] END colsample_bytree=0.2, gamma=0.3, learning_rate=0.3, max_depth=5, min_child_weight=7, n_estimators=100, subsample=0.5; total time=   8.4s\n",
      "[CV] END colsample_bytree=0.2, gamma=0.1, learning_rate=0.1, max_depth=8, min_child_weight=6, n_estimators=100, subsample=0.7; total time=   9.5s\n",
      "[CV] END colsample_bytree=0.6, gamma=0.1, learning_rate=0.01, max_depth=8, min_child_weight=7, n_estimators=150, subsample=0.5; total time=  29.1s\n",
      "[CV] END colsample_bytree=0.3, gamma=0.2, learning_rate=0.2, max_depth=5, min_child_weight=10, n_estimators=50, subsample=0.5; total time=   5.1s\n"
     ]
    },
    {
     "name": "stdout",
     "output_type": "stream",
     "text": [
      "[CV] END colsample_bytree=0.8, gamma=0.1, learning_rate=0.3, max_depth=4, min_child_weight=5, n_estimators=50, subsample=0.8; total time=   7.3s\n",
      "[CV] END colsample_bytree=0.7, gamma=0.2, learning_rate=0.3, max_depth=3, min_child_weight=6, n_estimators=200, subsample=0.5; total time=  20.9s\n",
      "[CV] END colsample_bytree=0.6, gamma=0.2, learning_rate=0.1, max_depth=6, min_child_weight=5, n_estimators=200, subsample=0.5; total time=  33.6s\n",
      "[CV] END colsample_bytree=0.6, gamma=0.2, learning_rate=0.3, max_depth=6, min_child_weight=5, n_estimators=100, subsample=0.8; total time=  16.9s\n",
      "[CV] END colsample_bytree=0.3, gamma=0.0, learning_rate=0.1, max_depth=5, min_child_weight=5, n_estimators=50, subsample=0.7; total time=   5.0s\n",
      "[CV] END colsample_bytree=0.4, gamma=0.1, learning_rate=0.01, max_depth=7, min_child_weight=3, n_estimators=100, subsample=0.5; total time=  13.8s\n",
      "[CV] END colsample_bytree=0.1, gamma=0.1, learning_rate=0.01, max_depth=5, min_child_weight=1, n_estimators=200, subsample=0.8; total time=  10.8s\n",
      "[CV] END colsample_bytree=0.6, gamma=0.0, learning_rate=0.3, max_depth=9, min_child_weight=2, n_estimators=150, subsample=0.8; total time=  36.6s\n",
      "[CV] END colsample_bytree=0.7, gamma=0.0, learning_rate=0.3, max_depth=6, min_child_weight=2, n_estimators=150, subsample=0.6; total time=  30.5s\n",
      "[CV] END colsample_bytree=0.1, gamma=0.0, learning_rate=0.2, max_depth=4, min_child_weight=6, n_estimators=150, subsample=0.8; total time=   7.9s\n",
      "[CV] END colsample_bytree=0.1, gamma=0.0, learning_rate=0.2, max_depth=4, min_child_weight=6, n_estimators=150, subsample=0.8; total time=   8.0s\n",
      "[CV] END colsample_bytree=0.7, gamma=0.1, learning_rate=0.01, max_depth=6, min_child_weight=7, n_estimators=200, subsample=0.8; total time=  36.6s\n",
      "[CV] END colsample_bytree=0.5, gamma=0.1, learning_rate=0.01, max_depth=7, min_child_weight=10, n_estimators=200, subsample=0.7; total time=  35.1s\n",
      "[CV] END colsample_bytree=0.4, gamma=0.1, learning_rate=0.2, max_depth=4, min_child_weight=6, n_estimators=50, subsample=0.8; total time=   5.2s\n",
      "[CV] END colsample_bytree=0.2, gamma=0.2, learning_rate=0.1, max_depth=7, min_child_weight=2, n_estimators=200, subsample=0.8; total time=  18.6s\n",
      "[CV] END colsample_bytree=0.4, gamma=0.2, learning_rate=0.01, max_depth=3, min_child_weight=6, n_estimators=100, subsample=0.5; total time=   8.7s\n",
      "[CV] END colsample_bytree=0.8, gamma=0.0, learning_rate=0.3, max_depth=3, min_child_weight=1, n_estimators=50, subsample=0.8; total time=   6.7s\n",
      "[CV] END colsample_bytree=0.1, gamma=0.1, learning_rate=0.3, max_depth=3, min_child_weight=10, n_estimators=150, subsample=0.5; total time=   7.8s\n",
      "[CV] END colsample_bytree=0.4, gamma=0.1, learning_rate=0.3, max_depth=5, min_child_weight=2, n_estimators=100, subsample=0.5; total time=  13.5s\n",
      "[CV] END colsample_bytree=0.8, gamma=0.3, learning_rate=0.1, max_depth=6, min_child_weight=1, n_estimators=150, subsample=0.8; total time=  36.2s\n",
      "[CV] END colsample_bytree=0.7, gamma=0.1, learning_rate=0.01, max_depth=9, min_child_weight=6, n_estimators=100, subsample=0.7; total time=  24.4s\n",
      "[CV] END colsample_bytree=0.5, gamma=0.0, learning_rate=0.01, max_depth=9, min_child_weight=10, n_estimators=200, subsample=0.6; total time=  38.2s\n",
      "[CV] END colsample_bytree=0.2, gamma=0.3, learning_rate=0.2, max_depth=3, min_child_weight=6, n_estimators=150, subsample=0.6; total time=  10.3s\n",
      "[CV] END colsample_bytree=0.1, gamma=0.2, learning_rate=0.1, max_depth=5, min_child_weight=5, n_estimators=200, subsample=0.7; total time=  12.0s\n",
      "[CV] END colsample_bytree=0.5, gamma=0.2, learning_rate=0.2, max_depth=4, min_child_weight=2, n_estimators=150, subsample=0.8; total time=  18.8s\n",
      "[CV] END colsample_bytree=0.2, gamma=0.0, learning_rate=0.2, max_depth=9, min_child_weight=0, n_estimators=200, subsample=0.8; total time=  24.3s\n",
      "[CV] END colsample_bytree=0.5, gamma=0.0, learning_rate=0.3, max_depth=4, min_child_weight=4, n_estimators=200, subsample=0.7; total time=  25.6s\n",
      "[CV] END colsample_bytree=0.3, gamma=0.2, learning_rate=0.1, max_depth=6, min_child_weight=10, n_estimators=200, subsample=0.7; total time=  24.9s\n",
      "[CV] END colsample_bytree=0.3, gamma=0.1, learning_rate=0.3, max_depth=8, min_child_weight=3, n_estimators=150, subsample=0.5; total time=  24.2s\n",
      "[CV] END colsample_bytree=0.7, gamma=0.1, learning_rate=0.01, max_depth=9, min_child_weight=7, n_estimators=100, subsample=0.8; total time=  21.2s\n",
      "[CV] END colsample_bytree=0.1, gamma=0.2, learning_rate=0.3, max_depth=5, min_child_weight=5, n_estimators=50, subsample=0.7; total time=   3.1s\n",
      "[CV] END colsample_bytree=0.4, gamma=0.0, learning_rate=0.2, max_depth=4, min_child_weight=5, n_estimators=50, subsample=0.7; total time=   5.3s\n",
      "[CV] END colsample_bytree=0.7, gamma=0.2, learning_rate=0.01, max_depth=9, min_child_weight=8, n_estimators=50, subsample=0.5; total time=  10.7s\n",
      "[CV] END colsample_bytree=0.7, gamma=0.3, learning_rate=0.1, max_depth=4, min_child_weight=10, n_estimators=150, subsample=0.6; total time=  21.9s\n",
      "[CV] END colsample_bytree=0.6, gamma=0.1, learning_rate=0.01, max_depth=8, min_child_weight=7, n_estimators=150, subsample=0.5; total time=  28.3s\n",
      "[CV] END colsample_bytree=0.7, gamma=0.0, learning_rate=0.2, max_depth=9, min_child_weight=10, n_estimators=100, subsample=0.7; total time=  21.8s\n",
      "[CV] END colsample_bytree=0.7, gamma=0.0, learning_rate=0.1, max_depth=5, min_child_weight=1, n_estimators=100, subsample=0.8; total time=  15.3s\n",
      "[CV] END colsample_bytree=0.7, gamma=0.3, learning_rate=0.3, max_depth=6, min_child_weight=3, n_estimators=150, subsample=0.6; total time=  29.0s\n",
      "[CV] END colsample_bytree=0.7, gamma=0.1, learning_rate=0.2, max_depth=6, min_child_weight=8, n_estimators=100, subsample=0.5; total time=  18.3s\n",
      "[CV] END colsample_bytree=0.1, gamma=0.0, learning_rate=0.01, max_depth=7, min_child_weight=4, n_estimators=50, subsample=0.6; total time=   3.5s\n",
      "[CV] END colsample_bytree=0.1, gamma=0.0, learning_rate=0.01, max_depth=7, min_child_weight=4, n_estimators=50, subsample=0.6; total time=   3.3s\n",
      "[CV] END colsample_bytree=0.4, gamma=0.0, learning_rate=0.01, max_depth=6, min_child_weight=4, n_estimators=100, subsample=0.8; total time=  12.7s\n",
      "[CV] END colsample_bytree=0.1, gamma=0.1, learning_rate=0.01, max_depth=5, min_child_weight=1, n_estimators=200, subsample=0.8; total time=  10.8s\n",
      "[CV] END colsample_bytree=0.5, gamma=0.1, learning_rate=0.1, max_depth=4, min_child_weight=7, n_estimators=150, subsample=0.6; total time=  18.4s\n",
      "[CV] END colsample_bytree=0.8, gamma=0.3, learning_rate=0.3, max_depth=4, min_child_weight=5, n_estimators=150, subsample=0.7; total time=  24.1s\n",
      "[CV] END colsample_bytree=0.8, gamma=0.2, learning_rate=0.1, max_depth=5, min_child_weight=4, n_estimators=200, subsample=0.8; total time=  37.6s\n",
      "[CV] END colsample_bytree=0.4, gamma=0.1, learning_rate=0.1, max_depth=5, min_child_weight=4, n_estimators=200, subsample=0.6; total time=  24.2s\n",
      "[CV] END colsample_bytree=0.7, gamma=0.2, learning_rate=0.1, max_depth=6, min_child_weight=5, n_estimators=200, subsample=0.6; total time=  40.9s\n",
      "[CV] END colsample_bytree=0.3, gamma=0.3, learning_rate=0.2, max_depth=4, min_child_weight=2, n_estimators=100, subsample=0.7; total time=   9.7s\n",
      "[CV] END colsample_bytree=0.2, gamma=0.2, learning_rate=0.1, max_depth=7, min_child_weight=2, n_estimators=200, subsample=0.8; total time=  18.8s\n",
      "[CV] END colsample_bytree=0.1, gamma=0.0, learning_rate=0.3, max_depth=4, min_child_weight=1, n_estimators=50, subsample=0.7; total time=   2.9s\n",
      "[CV] END colsample_bytree=0.5, gamma=0.1, learning_rate=0.2, max_depth=9, min_child_weight=1, n_estimators=50, subsample=0.6; total time=  11.2s\n",
      "[CV] END colsample_bytree=0.8, gamma=0.0, learning_rate=0.3, max_depth=3, min_child_weight=1, n_estimators=50, subsample=0.8; total time=   6.6s\n",
      "[CV] END colsample_bytree=0.4, gamma=0.1, learning_rate=0.3, max_depth=5, min_child_weight=2, n_estimators=100, subsample=0.5; total time=  13.5s\n",
      "[CV] END colsample_bytree=0.7, gamma=0.0, learning_rate=0.1, max_depth=6, min_child_weight=8, n_estimators=200, subsample=0.7; total time=  40.7s\n",
      "[CV] END colsample_bytree=0.3, gamma=0.1, learning_rate=0.3, max_depth=5, min_child_weight=9, n_estimators=150, subsample=0.8; total time=  17.6s\n",
      "[CV] END colsample_bytree=0.6, gamma=0.1, learning_rate=0.2, max_depth=6, min_child_weight=3, n_estimators=50, subsample=0.7; total time=   9.4s\n",
      "[CV] END colsample_bytree=0.2, gamma=0.3, learning_rate=0.1, max_depth=4, min_child_weight=1, n_estimators=50, subsample=0.5; total time=   3.8s\n",
      "[CV] END colsample_bytree=0.2, gamma=0.3, learning_rate=0.1, max_depth=4, min_child_weight=1, n_estimators=50, subsample=0.5; total time=   4.1s\n",
      "[CV] END colsample_bytree=0.1, gamma=0.3, learning_rate=0.3, max_depth=8, min_child_weight=6, n_estimators=50, subsample=0.6; total time=   4.1s\n",
      "[CV] END colsample_bytree=0.5, gamma=0.0, learning_rate=0.01, max_depth=3, min_child_weight=6, n_estimators=150, subsample=0.6; total time=  16.3s\n",
      "[CV] END colsample_bytree=0.3, gamma=0.2, learning_rate=0.3, max_depth=3, min_child_weight=1, n_estimators=50, subsample=0.8; total time=   4.0s\n",
      "[CV] END colsample_bytree=0.1, gamma=0.1, learning_rate=0.3, max_depth=9, min_child_weight=0, n_estimators=200, subsample=0.5; total time=  18.9s\n",
      "[CV] END colsample_bytree=0.3, gamma=0.0, learning_rate=0.01, max_depth=8, min_child_weight=5, n_estimators=200, subsample=0.6; total time=  27.1s\n",
      "[CV] END colsample_bytree=0.2, gamma=0.0, learning_rate=0.3, max_depth=8, min_child_weight=0, n_estimators=200, subsample=0.5; total time=  23.5s\n",
      "[CV] END colsample_bytree=0.5, gamma=0.1, learning_rate=0.2, max_depth=6, min_child_weight=2, n_estimators=100, subsample=0.8; total time=  17.0s\n",
      "[CV] END colsample_bytree=0.8, gamma=0.0, learning_rate=0.1, max_depth=5, min_child_weight=4, n_estimators=150, subsample=0.8; total time=  30.6s\n",
      "[CV] END colsample_bytree=0.3, gamma=0.0, learning_rate=0.1, max_depth=3, min_child_weight=7, n_estimators=100, subsample=0.7; total time=   8.0s\n",
      "[CV] END colsample_bytree=0.1, gamma=0.0, learning_rate=0.2, max_depth=3, min_child_weight=6, n_estimators=150, subsample=0.5; total time=   7.7s\n",
      "[CV] END colsample_bytree=0.7, gamma=0.3, learning_rate=0.01, max_depth=7, min_child_weight=0, n_estimators=100, subsample=0.8; total time=  22.4s\n",
      "[CV] END colsample_bytree=0.7, gamma=0.3, learning_rate=0.2, max_depth=7, min_child_weight=6, n_estimators=150, subsample=0.7; total time=  32.8s\n",
      "[CV] END colsample_bytree=0.2, gamma=0.1, learning_rate=0.1, max_depth=8, min_child_weight=6, n_estimators=100, subsample=0.7; total time=   9.4s\n",
      "[CV] END colsample_bytree=0.6, gamma=0.1, learning_rate=0.01, max_depth=8, min_child_weight=7, n_estimators=150, subsample=0.5; total time=  29.3s\n",
      "[CV] END colsample_bytree=0.3, gamma=0.2, learning_rate=0.2, max_depth=5, min_child_weight=10, n_estimators=50, subsample=0.5; total time=   4.6s\n"
     ]
    }
   ],
   "source": [
    "xg = xgb.XGBClassifier(objective='binary:logistic')\n",
    "xg_random = RandomizedSearchCV(estimator = xg, param_distributions = random_grid, n_iter = 100, cv = 3, verbose=2, random_state=42, n_jobs = -1)\n",
    "xg_random.fit(X_train, y_train)"
   ]
  },
  {
   "cell_type": "code",
   "execution_count": 16,
   "id": "75220e7c",
   "metadata": {},
   "outputs": [
    {
     "data": {
      "text/plain": [
       "{'subsample': 0.8,\n",
       " 'n_estimators': 150,\n",
       " 'min_child_weight': 4,\n",
       " 'max_depth': 5,\n",
       " 'learning_rate': 0.1,\n",
       " 'gamma': 0.0,\n",
       " 'colsample_bytree': 0.8}"
      ]
     },
     "execution_count": 16,
     "metadata": {},
     "output_type": "execute_result"
    }
   ],
   "source": [
    "xg_random.best_params_"
   ]
  },
  {
   "cell_type": "code",
   "execution_count": 136,
   "id": "518fec84",
   "metadata": {},
   "outputs": [
    {
     "name": "stdout",
     "output_type": "stream",
     "text": [
      "0.05 1.1723890108387285\n",
      "0.06153846153846154 1.181357815468047\n",
      "0.07307692307692308 1.188692516930994\n",
      "0.08461538461538462 1.193346236947984\n",
      "0.09615384615384617 1.200894194798796\n",
      "0.1076923076923077 1.2074285720835296\n",
      "0.11923076923076925 1.2112733179346686\n",
      "0.1307692307692308 1.2097857163585246\n",
      "0.14230769230769233 1.2103577295919699\n",
      "0.15384615384615385 1.2110761600277826\n",
      "0.1653846153846154 1.2067247614367664\n",
      "0.17692307692307696 1.2017539755289706\n",
      "0.1884615384615385 1.202889484438249\n",
      "0.2 1.2054177928076704\n"
     ]
    }
   ],
   "source": [
    "xg = xgb.XGBClassifier(n_estimators=50, max_depth=5, learning_rate=0.2, \n",
    "                                gamma=0.1, colsample_bytree=0.2)\n",
    "xg.fit(X_train, y_train)\n",
    "for threshold in np.linspace(0.05, 0.2, 14):\n",
    "    predicted_proba = xg.predict_proba(X_test)\n",
    "    y_pred = (predicted_proba [:,1] >= threshold).astype('int')\n",
    "    f1 = f1_score(y_test, y_pred)\n",
    "    auc = roc_auc_score(y_test, y_pred)\n",
    "    print(threshold, auc+f1)"
   ]
  },
  {
   "cell_type": "code",
   "execution_count": 137,
   "id": "abb1ca41",
   "metadata": {},
   "outputs": [],
   "source": [
    "threshold = 0.1\n",
    "predicted_proba = xg.predict_proba(X_test)\n",
    "y_pred = (predicted_proba [:,1] >= threshold).astype('int')"
   ]
  },
  {
   "cell_type": "code",
   "execution_count": 138,
   "id": "7a5fb00c",
   "metadata": {},
   "outputs": [
    {
     "name": "stdout",
     "output_type": "stream",
     "text": [
      "0.9909677700016857 0.37766953915324086 0.8251620531653545\n"
     ]
    }
   ],
   "source": [
    "cm = confusion_matrix(y_test, y_pred)\n",
    "acc = accuracy_score(y_test, y_pred)\n",
    "f1 = f1_score(y_test, y_pred)\n",
    "auc = roc_auc_score(y_test, y_pred)\n",
    "print(acc, f1, auc)"
   ]
  },
  {
   "cell_type": "code",
   "execution_count": 139,
   "id": "1aadeb57",
   "metadata": {},
   "outputs": [
    {
     "data": {
      "text/plain": [
       "array([[363464,   2798],\n",
       "       [   524,   1008]])"
      ]
     },
     "execution_count": 139,
     "metadata": {},
     "output_type": "execute_result"
    }
   ],
   "source": [
    "cm"
   ]
  },
  {
   "cell_type": "code",
   "execution_count": 106,
   "id": "09584079",
   "metadata": {},
   "outputs": [],
   "source": [
    "threshold = 0.14\n",
    "predicted_proba = xg.predict_proba(X_test)\n",
    "y_pred = (predicted_proba [:,1] >= threshold).astype('int')"
   ]
  },
  {
   "cell_type": "code",
   "execution_count": 107,
   "id": "6d417a09",
   "metadata": {},
   "outputs": [
    {
     "name": "stdout",
     "output_type": "stream",
     "text": [
      "0.9921097135896725 0.3718614718614719 0.7773095767040196\n"
     ]
    }
   ],
   "source": [
    "cm = confusion_matrix(y_test, y_pred)\n",
    "acc = accuracy_score(y_test, y_pred)\n",
    "f1 = f1_score(y_test, y_pred)\n",
    "auc = roc_auc_score(y_test, y_pred)\n",
    "print(acc, f1, auc)"
   ]
  },
  {
   "cell_type": "code",
   "execution_count": 108,
   "id": "2656d7c5",
   "metadata": {},
   "outputs": [
    {
     "data": {
      "text/plain": [
       "array([[364033,   2229],\n",
       "       [   673,    859]])"
      ]
     },
     "execution_count": 108,
     "metadata": {},
     "output_type": "execute_result"
    }
   ],
   "source": [
    "cm"
   ]
  },
  {
   "cell_type": "code",
   "execution_count": null,
   "id": "871e737b",
   "metadata": {},
   "outputs": [],
   "source": []
  },
  {
   "cell_type": "code",
   "execution_count": 1,
   "id": "060279b6",
   "metadata": {},
   "outputs": [],
   "source": [
    "import pandas as pd"
   ]
  },
  {
   "cell_type": "code",
   "execution_count": 3,
   "id": "911a4126",
   "metadata": {},
   "outputs": [],
   "source": [
    "log = pd.read_csv('log.csv')"
   ]
  },
  {
   "cell_type": "code",
   "execution_count": 5,
   "id": "ba9d6dc0",
   "metadata": {},
   "outputs": [
    {
     "data": {
      "text/plain": [
       "5567"
      ]
     },
     "execution_count": 5,
     "metadata": {},
     "output_type": "execute_result"
    }
   ],
   "source": [
    "len(set(log.user_id))"
   ]
  }
 ],
 "metadata": {
  "kernelspec": {
   "display_name": "Python 3 (ipykernel)",
   "language": "python",
   "name": "python3"
  },
  "language_info": {
   "codemirror_mode": {
    "name": "ipython",
    "version": 3
   },
   "file_extension": ".py",
   "mimetype": "text/x-python",
   "name": "python",
   "nbconvert_exporter": "python",
   "pygments_lexer": "ipython3",
   "version": "3.9.13"
  }
 },
 "nbformat": 4,
 "nbformat_minor": 5
}
