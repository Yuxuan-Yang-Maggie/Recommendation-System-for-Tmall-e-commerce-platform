{
 "cells": [
  {
   "cell_type": "markdown",
   "id": "5ec46ce2",
   "metadata": {},
   "source": [
    "# Loading Log Dataset (Part 2)"
   ]
  },
  {
   "cell_type": "markdown",
   "id": "760838a1",
   "metadata": {},
   "source": [
    "## Step 2 Finding the Target Buyers\n",
    "\n",
    "In this step, sorting the output from step 1 by the frequencies of action and select the action frequencies from 1500 to 5000"
   ]
  },
  {
   "cell_type": "markdown",
   "id": "940a6589",
   "metadata": {},
   "source": [
    "### Loading from Part 1"
   ]
  },
  {
   "cell_type": "code",
   "execution_count": 1,
   "id": "4a29640f",
   "metadata": {},
   "outputs": [],
   "source": [
    "import pandas as pd"
   ]
  },
  {
   "cell_type": "code",
   "execution_count": 3,
   "id": "c960631c",
   "metadata": {},
   "outputs": [],
   "source": [
    "%store -r df1"
   ]
  },
  {
   "cell_type": "code",
   "execution_count": 9,
   "id": "babac997",
   "metadata": {},
   "outputs": [],
   "source": [
    "a = pd.concat(df1)\n",
    "a = a.reset_index()\n",
    "parta = a.groupby('user_id').sum()"
   ]
  },
  {
   "cell_type": "code",
   "execution_count": 23,
   "id": "97069f78",
   "metadata": {},
   "outputs": [],
   "source": [
    "%store -r df2"
   ]
  },
  {
   "cell_type": "code",
   "execution_count": 24,
   "id": "ca931131",
   "metadata": {},
   "outputs": [],
   "source": [
    "b = pd.concat(df2)\n",
    "b = b.reset_index()\n",
    "partb = b.groupby('user_id').sum()"
   ]
  },
  {
   "cell_type": "code",
   "execution_count": 26,
   "id": "396f8991",
   "metadata": {},
   "outputs": [],
   "source": [
    "%store -r df3"
   ]
  },
  {
   "cell_type": "code",
   "execution_count": 27,
   "id": "c81e61a6",
   "metadata": {},
   "outputs": [],
   "source": [
    "c = pd.concat(df3)\n",
    "c = c.reset_index()\n",
    "partc = c.groupby('user_id').sum()"
   ]
  },
  {
   "cell_type": "code",
   "execution_count": 31,
   "id": "5b343d26",
   "metadata": {},
   "outputs": [],
   "source": [
    "# this is the integrated output from the part 1\n",
    "d = pd.concat([parta, partb, partc])\n",
    "d = d.reset_index()\n",
    "partd = d.groupby('user_id').sum()"
   ]
  },
  {
   "cell_type": "markdown",
   "id": "d0a0e1b3",
   "metadata": {},
   "source": [
    "### Selecting"
   ]
  },
  {
   "cell_type": "code",
   "execution_count": 65,
   "id": "e7f3da90",
   "metadata": {},
   "outputs": [],
   "source": [
    "ddd = partd[partd.item_id >= 1500]"
   ]
  },
  {
   "cell_type": "code",
   "execution_count": 72,
   "id": "8995135b",
   "metadata": {},
   "outputs": [],
   "source": [
    "user = ddd[ddd.item_id < 5000].index"
   ]
  },
  {
   "cell_type": "code",
   "execution_count": 44,
   "id": "f1dd0d90",
   "metadata": {},
   "outputs": [
    {
     "name": "stdout",
     "output_type": "stream",
     "text": [
      "Stored 'user' (Index)\n"
     ]
    }
   ],
   "source": [
    "%store user"
   ]
  },
  {
   "cell_type": "code",
   "execution_count": 62,
   "id": "d1bae4fd",
   "metadata": {},
   "outputs": [],
   "source": [
    "%store -r df10"
   ]
  },
  {
   "cell_type": "code",
   "execution_count": 74,
   "id": "bc7b15b6",
   "metadata": {},
   "outputs": [],
   "source": [
    "log = pd.concat(df10)"
   ]
  },
  {
   "cell_type": "code",
   "execution_count": 78,
   "id": "282cb256",
   "metadata": {},
   "outputs": [],
   "source": [
    "log = log[log.user_id.isin(user)]"
   ]
  },
  {
   "cell_type": "code",
   "execution_count": 79,
   "id": "00c63727",
   "metadata": {},
   "outputs": [],
   "source": [
    "log.to_csv('log.csv')"
   ]
  },
  {
   "cell_type": "code",
   "execution_count": null,
   "id": "f4b5d155",
   "metadata": {},
   "outputs": [],
   "source": []
  },
  {
   "cell_type": "code",
   "execution_count": null,
   "id": "aaf1a3cf",
   "metadata": {},
   "outputs": [],
   "source": []
  }
 ],
 "metadata": {
  "kernelspec": {
   "display_name": "Python 3 (ipykernel)",
   "language": "python",
   "name": "python3"
  },
  "language_info": {
   "codemirror_mode": {
    "name": "ipython",
    "version": 3
   },
   "file_extension": ".py",
   "mimetype": "text/x-python",
   "name": "python",
   "nbconvert_exporter": "python",
   "pygments_lexer": "ipython3",
   "version": "3.9.13"
  }
 },
 "nbformat": 4,
 "nbformat_minor": 5
}
