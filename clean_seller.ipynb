{
 "cells": [
  {
   "cell_type": "markdown",
   "id": "2f575525",
   "metadata": {},
   "source": [
    "# Selecting Target Sellers"
   ]
  },
  {
   "cell_type": "code",
   "execution_count": 1,
   "id": "d5357e1a",
   "metadata": {},
   "outputs": [],
   "source": [
    "import pandas as pd"
   ]
  },
  {
   "cell_type": "markdown",
   "id": "bb1bb686",
   "metadata": {},
   "source": [
    "## Step 1 group log dataset by item id and action\n",
    "\n",
    "In this step, we find the most popular item. Since log data does not contain any seller information, the product dataset is needed."
   ]
  },
  {
   "cell_type": "code",
   "execution_count": 2,
   "id": "c6836f58",
   "metadata": {},
   "outputs": [],
   "source": [
    "log = pd.read_csv('log.csv', index_col=0)\n",
    "log = log.reset_index(drop=True)"
   ]
  },
  {
   "cell_type": "code",
   "execution_count": 6,
   "id": "eb6684dd",
   "metadata": {},
   "outputs": [],
   "source": [
    "group = log.groupby(['item_id', 'action']).count().reset_index()\n",
    "group = group[group.action == 'alipay'][['item_id', 'user_id']]"
   ]
  },
  {
   "cell_type": "markdown",
   "id": "5cca27ef",
   "metadata": {},
   "source": [
    "## Step 2 merge log and product dataset to find popular seller\n",
    "\n",
    "In this step, we can find most popular seller"
   ]
  },
  {
   "cell_type": "code",
   "execution_count": 7,
   "id": "79412905",
   "metadata": {},
   "outputs": [],
   "source": [
    "clothes = pd.read_csv('clothes.csv')\n",
    "product = clothes[['item_id', 'seller_id']]"
   ]
  },
  {
   "cell_type": "code",
   "execution_count": 17,
   "id": "4d224a94",
   "metadata": {},
   "outputs": [],
   "source": [
    "merge = group.merge(product, on='item_id', how='left')\n",
    "sales = merge.groupby('seller_id').sum()\n",
    "seller = sales[sales.user_id >= 100].index"
   ]
  },
  {
   "cell_type": "code",
   "execution_count": 27,
   "id": "c1e65224",
   "metadata": {},
   "outputs": [
    {
     "name": "stdout",
     "output_type": "stream",
     "text": [
      "Stored 'seller' (Index)\n"
     ]
    }
   ],
   "source": [
    "%store seller"
   ]
  },
  {
   "cell_type": "code",
   "execution_count": 31,
   "id": "0e6aef8d",
   "metadata": {},
   "outputs": [],
   "source": [
    "user = list(set(log.user_id))"
   ]
  },
  {
   "cell_type": "code",
   "execution_count": 33,
   "id": "b686f1f1",
   "metadata": {},
   "outputs": [
    {
     "name": "stdout",
     "output_type": "stream",
     "text": [
      "Stored 'user' (list)\n"
     ]
    }
   ],
   "source": [
    "%store user"
   ]
  }
 ],
 "metadata": {
  "kernelspec": {
   "display_name": "Python 3 (ipykernel)",
   "language": "python",
   "name": "python3"
  },
  "language_info": {
   "codemirror_mode": {
    "name": "ipython",
    "version": 3
   },
   "file_extension": ".py",
   "mimetype": "text/x-python",
   "name": "python",
   "nbconvert_exporter": "python",
   "pygments_lexer": "ipython3",
   "version": "3.9.13"
  }
 },
 "nbformat": 4,
 "nbformat_minor": 5
}
