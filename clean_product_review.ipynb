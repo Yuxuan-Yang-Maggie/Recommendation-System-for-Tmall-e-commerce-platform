{
 "cells": [
  {
   "cell_type": "markdown",
   "id": "e8fb35f8",
   "metadata": {},
   "source": [
    "# Loading the Product and Review Datasets"
   ]
  },
  {
   "cell_type": "code",
   "execution_count": 1,
   "id": "6ddaec68",
   "metadata": {},
   "outputs": [],
   "source": [
    "import pandas as pd"
   ]
  },
  {
   "cell_type": "code",
   "execution_count": 14,
   "id": "ff661614",
   "metadata": {},
   "outputs": [],
   "source": [
    "# this is the top 100 sellers and top 5000 buyers selected from the log dataset\n",
    "%store -r seller\n",
    "%store -r user"
   ]
  },
  {
   "cell_type": "markdown",
   "id": "46e7bfa4",
   "metadata": {},
   "source": [
    "## Product Data\n",
    "\n",
    "For product data, only keep the category 10 (i.e., female clothing) and the products of target sellers"
   ]
  },
  {
   "cell_type": "code",
   "execution_count": 20,
   "id": "d5e461f1",
   "metadata": {},
   "outputs": [],
   "source": [
    "# read product dataset\n",
    "columns = ['item_id', 'title', 'pic_url', 'category', 'brand_id', 'seller_id']\n",
    "product = pd.read_csv('tianchi_2014001_rec_tmall_product.txt', header=None, sep='\\x01', names=columns)\n",
    "product['category_g'] = [lst[0] for lst in product.category.str.split('-')]"
   ]
  },
  {
   "cell_type": "code",
   "execution_count": 22,
   "id": "83dd95a4",
   "metadata": {},
   "outputs": [],
   "source": [
    "# only include clothing data\n",
    "product = product[product.category_g == '10']\n",
    "product = product.dropna()\n",
    "product = product.reset_index(drop=True)"
   ]
  },
  {
   "cell_type": "code",
   "execution_count": 20,
   "id": "51fca772",
   "metadata": {},
   "outputs": [],
   "source": [
    "# only include target sellers\n",
    "product = product[product.seller_id.isin(seller)]"
   ]
  },
  {
   "cell_type": "code",
   "execution_count": 29,
   "id": "6b451c7e",
   "metadata": {},
   "outputs": [],
   "source": [
    "product.to_csv('clothes.csv', index=False)"
   ]
  },
  {
   "cell_type": "markdown",
   "id": "ad78e92f",
   "metadata": {},
   "source": [
    "## Review Data\n",
    "\n",
    "Merge the review data and product data for future analysis. Only keep the reviews made by target buyers to the products of target sellers"
   ]
  },
  {
   "cell_type": "code",
   "execution_count": 21,
   "id": "91d027e2",
   "metadata": {},
   "outputs": [
    {
     "name": "stderr",
     "output_type": "stream",
     "text": [
      "/var/folders/qq/cy_ydgl96ln1wcgv8d9hyw5w0000gn/T/ipykernel_11898/1319835359.py:3: DtypeWarning: Columns (3) have mixed types. Specify dtype option on import or set low_memory=False.\n",
      "  review = pd.read_csv('tianchi_2014003_rec_tmall_review.txt', header=None, sep='\\x01', names=columns)\n"
     ]
    }
   ],
   "source": [
    "# read review dataset\n",
    "columns=['item_id', 'user_id', 'feedback', 'image', 'time']\n",
    "review = pd.read_csv('tianchi_2014003_rec_tmall_review.txt', header=None, sep='\\x01', names=columns)"
   ]
  },
  {
   "cell_type": "code",
   "execution_count": 23,
   "id": "02c2963e",
   "metadata": {},
   "outputs": [],
   "source": [
    "# merge product and review dataset\n",
    "df1 = product.merge(review, on='item_id')\n",
    "df1 = df1.drop(columns=['image', 'pic_url'])"
   ]
  },
  {
   "cell_type": "code",
   "execution_count": 8,
   "id": "7995e5c1",
   "metadata": {},
   "outputs": [],
   "source": [
    "# only include target sellers\n",
    "df1 = df1[df1.seller_id.isin(seller)]"
   ]
  },
  {
   "cell_type": "code",
   "execution_count": 11,
   "id": "5a8b1d9e",
   "metadata": {},
   "outputs": [],
   "source": [
    "# only include target buyers\n",
    "df1 = df1[df1.user_id.isin(user)]"
   ]
  },
  {
   "cell_type": "code",
   "execution_count": 27,
   "id": "8ca5809f",
   "metadata": {},
   "outputs": [],
   "source": [
    "df1.to_csv('product_review.csv', index=False)"
   ]
  }
 ],
 "metadata": {
  "kernelspec": {
   "display_name": "Python 3 (ipykernel)",
   "language": "python",
   "name": "python3"
  },
  "language_info": {
   "codemirror_mode": {
    "name": "ipython",
    "version": 3
   },
   "file_extension": ".py",
   "mimetype": "text/x-python",
   "name": "python",
   "nbconvert_exporter": "python",
   "pygments_lexer": "ipython3",
   "version": "3.9.13"
  }
 },
 "nbformat": 4,
 "nbformat_minor": 5
}
