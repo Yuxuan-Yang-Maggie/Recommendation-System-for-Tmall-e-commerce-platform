{
 "cells": [
  {
   "cell_type": "code",
   "execution_count": 3,
   "id": "026d1964",
   "metadata": {},
   "outputs": [],
   "source": [
    "import pandas as pd\n",
    "import numpy as np\n",
    "import datetime as dt"
   ]
  },
  {
   "cell_type": "markdown",
   "id": "2c9785d4",
   "metadata": {},
   "source": [
    "# Prepare the dataset\n",
    "\n",
    "To prepare for the buyer features, we have to use the log dataset, which contains the behaviours of around 5000 frequent usersover 6 months."
   ]
  },
  {
   "cell_type": "code",
   "execution_count": 49,
   "id": "c99f90e5",
   "metadata": {},
   "outputs": [],
   "source": [
    "df = pd.read_csv('product_log.csv')"
   ]
  },
  {
   "cell_type": "markdown",
   "id": "1529937b",
   "metadata": {},
   "source": [
    "# train test split"
   ]
  },
  {
   "cell_type": "code",
   "execution_count": 50,
   "id": "7d590af2",
   "metadata": {},
   "outputs": [],
   "source": [
    "# ignore 2013-09, which serves as outcomes in test dataset\n",
    "df['vmonth'] = df.vtime.str[: 7]"
   ]
  },
  {
   "cell_type": "code",
   "execution_count": 6,
   "id": "a7a94a72",
   "metadata": {},
   "outputs": [],
   "source": [
    "df.loc[:, 'vtime'] = df.vtime.apply(pd.to_datetime)"
   ]
  },
  {
   "cell_type": "code",
   "execution_count": 51,
   "id": "51d324cd",
   "metadata": {},
   "outputs": [],
   "source": [
    "# keep 2013-08 as outcome, and use data before that to create features\n",
    "train = df[df.vmonth != '2013-09'].reset_index(drop=True)\n",
    "out = df[df.vmonth == '2013-09'].reset_index(drop=True)"
   ]
  },
  {
   "cell_type": "markdown",
   "id": "aca6bc34",
   "metadata": {},
   "source": [
    "# seller to user data"
   ]
  },
  {
   "cell_type": "code",
   "execution_count": 8,
   "id": "4e27d503",
   "metadata": {},
   "outputs": [],
   "source": [
    "%store -r user_id\n",
    "user_id = list(user_id)\n",
    "seller_id = list(set(df.seller_id))"
   ]
  },
  {
   "cell_type": "code",
   "execution_count": 9,
   "id": "5ef64f4d",
   "metadata": {},
   "outputs": [],
   "source": [
    "# filter training data to consider only the buyer who will purchase any item next month\n",
    "train = train[train.user_id.isin(user_id)]\n",
    "train = train.reset_index(drop=True) "
   ]
  },
  {
   "cell_type": "code",
   "execution_count": 10,
   "id": "0850bead",
   "metadata": {},
   "outputs": [],
   "source": [
    "# create index based on the first state prediction\n",
    "index = pd.MultiIndex.from_product([user_id, seller_id], names=['user_id', 'seller_id'])\n",
    "b_s = pd.DataFrame(index=index)"
   ]
  },
  {
   "cell_type": "markdown",
   "id": "78ff09d3",
   "metadata": {},
   "source": [
    "## historical"
   ]
  },
  {
   "cell_type": "code",
   "execution_count": 11,
   "id": "bef31e21",
   "metadata": {},
   "outputs": [],
   "source": [
    "# group training dataset by user_id, seller_id, action, for historical features\n",
    "group = train.groupby(['user_id', 'seller_id', 'action']).count()\n",
    "group = group.reset_index()"
   ]
  },
  {
   "cell_type": "code",
   "execution_count": 12,
   "id": "897b7870",
   "metadata": {},
   "outputs": [],
   "source": [
    "# purchase\n",
    "to_merge = group[group.action == 'alipay'][['user_id', 'seller_id', 'item_id']]\n",
    "b_s = b_s.merge(to_merge, how='left', on=['user_id', 'seller_id'])\n",
    "b_s = b_s.rename(columns={'item_id': 'purchase'})"
   ]
  },
  {
   "cell_type": "code",
   "execution_count": 13,
   "id": "23433857",
   "metadata": {},
   "outputs": [],
   "source": [
    "# click\n",
    "to_merge = group[group.action == 'click'][['user_id', 'seller_id', 'item_id']]\n",
    "b_s = b_s.merge(to_merge, how='left', on=['user_id', 'seller_id'])\n",
    "b_s = b_s.rename(columns={'item_id': 'click'})"
   ]
  },
  {
   "cell_type": "code",
   "execution_count": 14,
   "id": "9bf1ddbe",
   "metadata": {},
   "outputs": [],
   "source": [
    "# cart\n",
    "to_merge = group[group.action == 'cart'][['user_id', 'seller_id', 'item_id']]\n",
    "b_s = b_s.merge(to_merge, how='left', on=['user_id', 'seller_id'])\n",
    "b_s = b_s.rename(columns={'item_id': 'cart'})"
   ]
  },
  {
   "cell_type": "code",
   "execution_count": 15,
   "id": "9c22aa02",
   "metadata": {},
   "outputs": [],
   "source": [
    "b_s['click_buy_ratio'] = b_s.purchase / b_s.click\n",
    "b_s['cart_buy_ratio'] = b_s.purchase / b_s.cart"
   ]
  },
  {
   "cell_type": "markdown",
   "id": "5d30a390",
   "metadata": {},
   "source": [
    "### last month"
   ]
  },
  {
   "cell_type": "code",
   "execution_count": 16,
   "id": "9cf30ef8",
   "metadata": {},
   "outputs": [],
   "source": [
    "# group training dataset by user_id, seller_id, action, but only consider July\n",
    "last_month = train[train.vmonth == '2013-08'].groupby(['user_id', 'seller_id', 'action']).count()[['item_id']]\n",
    "last_month = last_month.reset_index()"
   ]
  },
  {
   "cell_type": "code",
   "execution_count": 17,
   "id": "ec96b078",
   "metadata": {},
   "outputs": [],
   "source": [
    "to_merge = last_month[last_month.action == 'alipay'][['user_id', 'seller_id', 'item_id']]\n",
    "b_s = b_s.merge(to_merge, how='left', on=['user_id', 'seller_id'])\n",
    "b_s = b_s.rename(columns={'item_id': 'purchase_last_m'})"
   ]
  },
  {
   "cell_type": "code",
   "execution_count": 18,
   "id": "ed35b058",
   "metadata": {},
   "outputs": [],
   "source": [
    "to_merge = last_month[last_month.action == 'click'][['user_id', 'seller_id', 'item_id']]\n",
    "b_s = b_s.merge(to_merge, how='left', on=['user_id', 'seller_id'])\n",
    "b_s = b_s.rename(columns={'item_id': 'click_last_m'})"
   ]
  },
  {
   "cell_type": "code",
   "execution_count": 19,
   "id": "68b75174",
   "metadata": {},
   "outputs": [],
   "source": [
    "to_merge = last_month[last_month.action == 'cart'][['user_id', 'seller_id', 'item_id']]\n",
    "b_s = b_s.merge(to_merge, how='left', on=['user_id', 'seller_id'])\n",
    "b_s = b_s.rename(columns={'item_id': 'cart_last_m'})"
   ]
  },
  {
   "cell_type": "code",
   "execution_count": 20,
   "id": "9af16663",
   "metadata": {},
   "outputs": [],
   "source": [
    "b_s['click_buy_ratio_last_m'] = b_s.purchase_last_m / b_s.click_last_m\n",
    "b_s['cart_buy_ratio_last_m'] = b_s.purchase_last_m / b_s.cart_last_m"
   ]
  },
  {
   "cell_type": "markdown",
   "id": "5fdcfc99",
   "metadata": {},
   "source": [
    "### recent"
   ]
  },
  {
   "cell_type": "code",
   "execution_count": 21,
   "id": "db8ca255",
   "metadata": {},
   "outputs": [],
   "source": [
    "recent = train[train.vtime > dt.datetime(2013, 8, 20)].groupby(['user_id', 'seller_id', 'action']).count()[['item_id']].reset_index()"
   ]
  },
  {
   "cell_type": "code",
   "execution_count": 22,
   "id": "df989cc1",
   "metadata": {},
   "outputs": [],
   "source": [
    "to_merge = recent[recent.action == 'alipay'][['user_id', 'seller_id', 'item_id']]\n",
    "b_s = b_s.merge(to_merge, how='left', on=['user_id', 'seller_id'])\n",
    "b_s = b_s.rename(columns={'item_id': 'purchase_recent'})"
   ]
  },
  {
   "cell_type": "code",
   "execution_count": 23,
   "id": "c37e83b5",
   "metadata": {},
   "outputs": [],
   "source": [
    "to_merge = recent[recent.action == 'click'][['user_id', 'seller_id', 'item_id']]\n",
    "b_s = b_s.merge(to_merge, how='left', on=['user_id', 'seller_id'])\n",
    "b_s = b_s.rename(columns={'item_id': 'click_recent'})"
   ]
  },
  {
   "cell_type": "code",
   "execution_count": 24,
   "id": "e68ccdf8",
   "metadata": {},
   "outputs": [],
   "source": [
    "to_merge = recent[recent.action == 'cart'][['user_id', 'seller_id', 'item_id']]\n",
    "b_s = b_s.merge(to_merge, how='left', on=['user_id', 'seller_id'])\n",
    "b_s = b_s.rename(columns={'item_id': 'cart_recent'})"
   ]
  },
  {
   "cell_type": "code",
   "execution_count": 25,
   "id": "b6d490ee",
   "metadata": {},
   "outputs": [],
   "source": [
    "b_s['click_buy_ratio_recent'] = b_s.purchase_recent / b_s.click_recent\n",
    "b_s['cart_buy_ratio_recent'] = b_s.purchase_recent / b_s.cart_recent"
   ]
  },
  {
   "cell_type": "code",
   "execution_count": 26,
   "id": "a93d592b",
   "metadata": {},
   "outputs": [],
   "source": [
    "b_s= b_s.fillna(0)"
   ]
  },
  {
   "cell_type": "markdown",
   "id": "925f5088",
   "metadata": {},
   "source": [
    "### last"
   ]
  },
  {
   "cell_type": "code",
   "execution_count": 27,
   "id": "ef02fdc1",
   "metadata": {},
   "outputs": [],
   "source": [
    "to_merge = train[train.action == 'alipay'].groupby(['user_id', 'seller_id']).max()[['vtime']]\n",
    "to_merge['last_purchase'] = dt.datetime(2013, 9, 1) - to_merge.vtime\n",
    "to_merge['last_purchase'] = to_merge.last_purchase.apply(lambda x: x.days)\n",
    "to_merge = to_merge.reset_index()\n",
    "b_s = b_s.merge(to_merge[['user_id', 'seller_id', 'last_purchase']], how='left', on=['user_id', 'seller_id'])"
   ]
  },
  {
   "cell_type": "code",
   "execution_count": 29,
   "id": "bef9d837",
   "metadata": {},
   "outputs": [],
   "source": [
    "to_merge = train[train.action == 'click'].groupby(['user_id', 'seller_id']).max()[['vtime']]\n",
    "to_merge['last_click'] = dt.datetime(2013, 9, 1) - to_merge.vtime\n",
    "to_merge['last_click'] = to_merge.last_click.apply(lambda x: x.days)\n",
    "to_merge = to_merge.reset_index()\n",
    "b_s = b_s.merge(to_merge[['user_id', 'seller_id', 'last_click']], how='left', on=['user_id', 'seller_id'])"
   ]
  },
  {
   "cell_type": "code",
   "execution_count": 30,
   "id": "30ddf466",
   "metadata": {},
   "outputs": [],
   "source": [
    "to_merge = train[train.action == 'cart'].groupby(['user_id', 'seller_id']).max()[['vtime']]\n",
    "to_merge['last_cart'] = dt.datetime(2013, 9, 1) - to_merge.vtime\n",
    "to_merge['last_cart'] = to_merge.last_cart.apply(lambda x: x.days)\n",
    "to_merge = to_merge.reset_index()\n",
    "b_s = b_s.merge(to_merge[['user_id', 'seller_id', 'last_cart']], how='left', on=['user_id', 'seller_id'])"
   ]
  },
  {
   "cell_type": "code",
   "execution_count": 31,
   "id": "f3881c3d",
   "metadata": {},
   "outputs": [],
   "source": [
    "b_s['last_purchase'] = b_s.last_purchase.fillna(121)\n",
    "b_s['last_click'] = b_s.last_click.fillna(121)\n",
    "b_s['last_cart'] = b_s.last_cart.fillna(121)"
   ]
  },
  {
   "cell_type": "markdown",
   "id": "452c6696",
   "metadata": {},
   "source": [
    "### sentiment"
   ]
  },
  {
   "cell_type": "code",
   "execution_count": 47,
   "id": "1fd422b3",
   "metadata": {},
   "outputs": [],
   "source": [
    "sentiment = pd.read_csv('reviewscore.csv')\n",
    "to_merge = sentiment[['user_id', 'seller_id', 'sentimentscore_pos', 'sentimentscore_neu', 'sentimentscore_neg']]\n",
    "b_s = b_s.merge(to_merge, how='left', on=['user_id', 'seller_id'])\n",
    "b_s[['sentimentscore_pos', 'sentimentscore_neu', 'sentimentscore_neg']] = b_s[['sentimentscore_pos', 'sentimentscore_neu', 'sentimentscore_neg']].fillna(0)"
   ]
  },
  {
   "cell_type": "markdown",
   "id": "ec3d8bf8",
   "metadata": {},
   "source": [
    "### outcome"
   ]
  },
  {
   "cell_type": "code",
   "execution_count": 52,
   "id": "81dd6df6",
   "metadata": {},
   "outputs": [],
   "source": [
    "g = out.groupby(['user_id', 'seller_id', 'action']).count()\n",
    "g = g.reset_index()\n",
    "to_merge = g[g.action == 'alipay'][['user_id', 'seller_id', 'item_id']]\n",
    "to_merge['item_id'] = np.ones(len(to_merge))"
   ]
  },
  {
   "cell_type": "code",
   "execution_count": 53,
   "id": "157823fc",
   "metadata": {},
   "outputs": [],
   "source": [
    "b_s = b_s.merge(to_merge, how='left', on=['user_id', 'seller_id'])\n",
    "b_s = b_s.rename(columns={'item_id': 'outcome'})\n",
    "b_s['outcome'] = b_s.outcome.fillna(0)"
   ]
  },
  {
   "cell_type": "code",
   "execution_count": 55,
   "id": "029e15b5",
   "metadata": {},
   "outputs": [],
   "source": [
    "b_s.to_csv('b_s_test.csv', index=False)"
   ]
  }
 ],
 "metadata": {
  "kernelspec": {
   "display_name": "Python 3 (ipykernel)",
   "language": "python",
   "name": "python3"
  },
  "language_info": {
   "codemirror_mode": {
    "name": "ipython",
    "version": 3
   },
   "file_extension": ".py",
   "mimetype": "text/x-python",
   "name": "python",
   "nbconvert_exporter": "python",
   "pygments_lexer": "ipython3",
   "version": "3.9.13"
  }
 },
 "nbformat": 4,
 "nbformat_minor": 5
}
