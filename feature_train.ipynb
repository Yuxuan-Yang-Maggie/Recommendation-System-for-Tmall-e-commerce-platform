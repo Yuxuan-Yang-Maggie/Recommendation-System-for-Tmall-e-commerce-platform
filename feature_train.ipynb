{
 "cells": [
  {
   "cell_type": "code",
   "execution_count": 1,
   "id": "026d1964",
   "metadata": {},
   "outputs": [],
   "source": [
    "import pandas as pd\n",
    "import numpy as np\n",
    "import datetime as dt"
   ]
  },
  {
   "cell_type": "markdown",
   "id": "2c9785d4",
   "metadata": {},
   "source": [
    "# Prepare the dataset\n",
    "\n",
    "To prepare for the buyer features, we have to use the log dataset, which contains the behaviours of around 5000 frequent usersover 6 months."
   ]
  },
  {
   "cell_type": "code",
   "execution_count": 3,
   "id": "c99f90e5",
   "metadata": {},
   "outputs": [],
   "source": [
    "df = pd.read_csv('log.csv')"
   ]
  },
  {
   "cell_type": "markdown",
   "id": "1529937b",
   "metadata": {},
   "source": [
    "# train test split"
   ]
  },
  {
   "cell_type": "code",
   "execution_count": 4,
   "id": "7d590af2",
   "metadata": {},
   "outputs": [],
   "source": [
    "# ignore 2013-09, which serves as outcomes in test dataset\n",
    "df['vmonth'] = df.vtime.str[: 7]\n",
    "df_train = df[df.vmonth != '2013-09']"
   ]
  },
  {
   "cell_type": "code",
   "execution_count": 5,
   "id": "a7a94a72",
   "metadata": {},
   "outputs": [
    {
     "name": "stderr",
     "output_type": "stream",
     "text": [
      "/var/folders/qq/cy_ydgl96ln1wcgv8d9hyw5w0000gn/T/ipykernel_32698/3199185038.py:1: SettingWithCopyWarning: \n",
      "A value is trying to be set on a copy of a slice from a DataFrame.\n",
      "Try using .loc[row_indexer,col_indexer] = value instead\n",
      "\n",
      "See the caveats in the documentation: https://pandas.pydata.org/pandas-docs/stable/user_guide/indexing.html#returning-a-view-versus-a-copy\n",
      "  df_train.loc[:, 'vtime'] = df_train.vtime.apply(pd.to_datetime)\n"
     ]
    }
   ],
   "source": [
    "df_train.loc[:, 'vtime'] = df_train.vtime.apply(pd.to_datetime)"
   ]
  },
  {
   "cell_type": "code",
   "execution_count": 6,
   "id": "51d324cd",
   "metadata": {},
   "outputs": [],
   "source": [
    "# keep 2013-08 as outcome, and use data before that to create features\n",
    "train = df_train[df_train.vmonth != '2013-08'].reset_index(drop=True)\n",
    "out = df_train[df_train.vmonth == '2013-08'].reset_index(drop=True)"
   ]
  },
  {
   "cell_type": "markdown",
   "id": "8c65eff0",
   "metadata": {},
   "source": [
    "# buyer data"
   ]
  },
  {
   "cell_type": "markdown",
   "id": "4a83d741",
   "metadata": {},
   "source": [
    "## action-based features"
   ]
  },
  {
   "cell_type": "code",
   "execution_count": 37,
   "id": "492becc9",
   "metadata": {},
   "outputs": [],
   "source": [
    "# this is the final dataframe of buyer features\n",
    "buyer = list(set(df.user_id))\n",
    "b = pd.DataFrame(index=buyer)\n",
    "b = b.reset_index()\n",
    "b = b.rename(columns={'index': 'user_id'})"
   ]
  },
  {
   "cell_type": "code",
   "execution_count": 38,
   "id": "ebaa9184",
   "metadata": {},
   "outputs": [],
   "source": [
    "# this is where we extract features related to historical actions from\n",
    "\n",
    "# all behaviour\n",
    "buyer = train.groupby(['user_id', 'action']).count()[['item_id']].reset_index()\n",
    "\n",
    "# last_month behaviour\n",
    "buyer_last_month = train[train.vmonth == '2013-07'].groupby(['user_id', 'action']).count()[['item_id']].reset_index()\n",
    "\n",
    "# last ten days behaviour\n",
    "buyer_recent = train[train.vtime > dt.datetime(2013, 7, 20)].groupby(['user_id', 'action']).count()[['item_id']].reset_index()"
   ]
  },
  {
   "cell_type": "code",
   "execution_count": 39,
   "id": "e8403026",
   "metadata": {},
   "outputs": [],
   "source": [
    "# purchase\n",
    "to_merge = buyer[buyer.action == 'alipay'][['user_id', 'item_id']]\n",
    "b = b.merge(to_merge, how='left', on='user_id')\n",
    "b = b.rename(columns={'item_id': 'purchase'})"
   ]
  },
  {
   "cell_type": "code",
   "execution_count": 40,
   "id": "ec8c4f2d",
   "metadata": {},
   "outputs": [],
   "source": [
    "# purchase last month\n",
    "to_merge = buyer_last_month[buyer_last_month.action == 'alipay'][['user_id', 'item_id']]\n",
    "b = b.merge(to_merge, how='left', on='user_id')\n",
    "b = b.rename(columns={'item_id': 'purchase_last_m'})"
   ]
  },
  {
   "cell_type": "code",
   "execution_count": 41,
   "id": "77a1d3cb",
   "metadata": {},
   "outputs": [],
   "source": [
    "# purchase last ten day\n",
    "to_merge = buyer_recent[buyer_recent.action == 'alipay'][['user_id', 'item_id']]\n",
    "b = b.merge(to_merge, how='left', on='user_id')\n",
    "b = b.rename(columns={'item_id': 'purchase_recent'})"
   ]
  },
  {
   "cell_type": "code",
   "execution_count": 42,
   "id": "76e92b0b",
   "metadata": {},
   "outputs": [],
   "source": [
    "# click\n",
    "to_merge = buyer[buyer.action == 'click'][['user_id', 'item_id']]\n",
    "b = b.merge(to_merge, how='left', on='user_id')\n",
    "b = b.rename(columns={'item_id': 'click'})"
   ]
  },
  {
   "cell_type": "code",
   "execution_count": 43,
   "id": "40d889ca",
   "metadata": {},
   "outputs": [],
   "source": [
    "# click last month\n",
    "to_merge = buyer_last_month[buyer_last_month.action == 'click'][['user_id', 'item_id']]\n",
    "b = b.merge(to_merge, how='left', on='user_id')\n",
    "b = b.rename(columns={'item_id': 'click_last_m'})"
   ]
  },
  {
   "cell_type": "code",
   "execution_count": 44,
   "id": "ec0ef8cc",
   "metadata": {},
   "outputs": [],
   "source": [
    "# click last ten day\n",
    "to_merge = buyer_recent[buyer_recent.action == 'click'][['user_id', 'item_id']]\n",
    "b = b.merge(to_merge, how='left', on='user_id')\n",
    "b = b.rename(columns={'item_id': 'click_recent'})"
   ]
  },
  {
   "cell_type": "code",
   "execution_count": 45,
   "id": "1f9058fe",
   "metadata": {},
   "outputs": [],
   "source": [
    "# cart\n",
    "to_merge = buyer[buyer.action == 'cart'][['user_id', 'item_id']]\n",
    "b = b.merge(to_merge, how='left', on='user_id')\n",
    "b = b.rename(columns={'item_id': 'cart'})"
   ]
  },
  {
   "cell_type": "code",
   "execution_count": 46,
   "id": "0cfab91c",
   "metadata": {},
   "outputs": [],
   "source": [
    "# cart last month\n",
    "to_merge = buyer_last_month[buyer_last_month.action == 'cart'][['user_id', 'item_id']]\n",
    "b = b.merge(to_merge, how='left', on='user_id')\n",
    "b = b.rename(columns={'item_id': 'cart_last_m'})"
   ]
  },
  {
   "cell_type": "code",
   "execution_count": 47,
   "id": "848ea0b2",
   "metadata": {},
   "outputs": [],
   "source": [
    "# click last ten day\n",
    "to_merge = buyer_recent[buyer_recent.action == 'cart'][['user_id', 'item_id']]\n",
    "b = b.merge(to_merge, how='left', on='user_id')\n",
    "b = b.rename(columns={'item_id': 'cart_recent'})"
   ]
  },
  {
   "cell_type": "code",
   "execution_count": 48,
   "id": "91503555",
   "metadata": {},
   "outputs": [],
   "source": [
    "# ratio\n",
    "b['click_buy_ratio'] = b.purchase / b.click\n",
    "b['cart_buy_ratio'] = b.purchase / b.cart\n",
    "\n",
    "b['click_buy_ratio_last_m'] = b.purchase_last_m / b.click_last_m\n",
    "b['cart_buy_ratio_last_m'] = b.purchase_last_m / b.cart_last_m\n",
    "\n",
    "b['click_buy_ratio_recent'] = b.purchase_recent / b.click_recent\n",
    "b['cart_buy_ratio_recent'] = b.purchase_recent / b.cart_recent"
   ]
  },
  {
   "cell_type": "code",
   "execution_count": 49,
   "id": "7fe1f9d2",
   "metadata": {},
   "outputs": [],
   "source": [
    "b = b.fillna(0)\n",
    "b = b.set_index('user_id')"
   ]
  },
  {
   "cell_type": "markdown",
   "id": "37817d67",
   "metadata": {},
   "source": [
    "## action-based features (2)"
   ]
  },
  {
   "cell_type": "code",
   "execution_count": 50,
   "id": "dacb5d7f",
   "metadata": {},
   "outputs": [],
   "source": [
    "# last purchase\n",
    "df2 = train[train.action == 'alipay']\n",
    "for id_ in b.index:\n",
    "    try:\n",
    "        b.loc[id_, 'last_buy'] = (dt.datetime(2013, 8, 1) - max(df2[df2.user_id == id_].vtime)).days\n",
    "    except ValueError:\n",
    "        b.loc[id_, 'last_buy'] = np.nan"
   ]
  },
  {
   "cell_type": "code",
   "execution_count": 51,
   "id": "c2a79ceb",
   "metadata": {},
   "outputs": [],
   "source": [
    "# last click\n",
    "df3 = train[train.action == 'click']\n",
    "for id_ in b.index:\n",
    "    try:\n",
    "        b.loc[id_, 'last_click'] = (dt.datetime(2013, 8, 1) - max(df3[df3.user_id == id_].vtime)).days\n",
    "    except ValueError:\n",
    "        b.loc[id_, 'last_click'] = np.nan"
   ]
  },
  {
   "cell_type": "code",
   "execution_count": 52,
   "id": "49ffb93d",
   "metadata": {},
   "outputs": [],
   "source": [
    "# last day of cart\n",
    "df4 = train[train.action == 'cart']\n",
    "for id_ in b.index:\n",
    "    try:\n",
    "        b.loc[id_, 'last_cart'] = (dt.datetime(2013, 8, 1) - max(df4[df4.user_id == id_].vtime)).days\n",
    "    except ValueError:\n",
    "        b.loc[id_, 'last_cart'] = np.nan"
   ]
  },
  {
   "cell_type": "code",
   "execution_count": 53,
   "id": "49d3e330",
   "metadata": {},
   "outputs": [],
   "source": [
    "# actions after last purchase\n",
    "b['click_after_purchase'] = (b.last_buy - b.last_click > 0).astype(int)\n",
    "b['cart_after_purchase'] = (b.last_buy - b.last_cart > 0).astype(int)"
   ]
  },
  {
   "cell_type": "markdown",
   "id": "3b7d219b",
   "metadata": {},
   "source": [
    "## outcome"
   ]
  },
  {
   "cell_type": "code",
   "execution_count": 58,
   "id": "99066b7e",
   "metadata": {},
   "outputs": [],
   "source": [
    "#outcome\n",
    "g = out.groupby(['user_id', 'action']).count()[['item_id']]\n",
    "g = g.reset_index()"
   ]
  },
  {
   "cell_type": "code",
   "execution_count": 59,
   "id": "dbfcda59",
   "metadata": {},
   "outputs": [],
   "source": [
    "to_merge = g[g.action == 'alipay'][['user_id', 'item_id']]\n",
    "to_merge['item_id'] = np.ones(len(to_merge))\n",
    "b = b.merge(to_merge, how='left', on='user_id')"
   ]
  },
  {
   "cell_type": "code",
   "execution_count": 60,
   "id": "1fa0b48c",
   "metadata": {},
   "outputs": [],
   "source": [
    "b = b.rename(columns={'item_id': 'outcome'})\n",
    "b['outcome'] = b.outcome.fillna(0)"
   ]
  },
  {
   "cell_type": "code",
   "execution_count": 63,
   "id": "86c5441a",
   "metadata": {},
   "outputs": [],
   "source": [
    "b.to_csv('buyer_train.csv')"
   ]
  },
  {
   "cell_type": "markdown",
   "id": "aca6bc34",
   "metadata": {},
   "source": [
    "# seller to user data"
   ]
  },
  {
   "cell_type": "code",
   "execution_count": null,
   "id": "4e27d503",
   "metadata": {},
   "outputs": [],
   "source": [
    "%store -r seller_id\n",
    "%store -r user_id\n",
    "user_id = list(user_id)\n",
    "seller_id = list(seller_id)"
   ]
  },
  {
   "cell_type": "code",
   "execution_count": null,
   "id": "c28b093f",
   "metadata": {},
   "outputs": [],
   "source": [
    "b = pd.read_csv('buyer_train.csv')"
   ]
  },
  {
   "cell_type": "code",
   "execution_count": null,
   "id": "5ef64f4d",
   "metadata": {},
   "outputs": [],
   "source": [
    "train = train.reset_index(drop=True) \n",
    "train = train[train.user_id.isin(user_id)]\n",
    "train = train[train.seller_id.isin(seller_id)]"
   ]
  },
  {
   "cell_type": "code",
   "execution_count": null,
   "id": "0850bead",
   "metadata": {},
   "outputs": [],
   "source": [
    "# create index based on the first state prediction\n",
    "index = pd.MultiIndex.from_product([user_id, seller_id], names=['user_id', 'seller_id'])\n",
    "b_s = pd.DataFrame(index=index)"
   ]
  },
  {
   "cell_type": "code",
   "execution_count": null,
   "id": "138dc150",
   "metadata": {},
   "outputs": [],
   "source": [
    "group = train.groupby(['user_id', 'seller_id', 'action']).count()\n",
    "group = group.reset_index()"
   ]
  },
  {
   "cell_type": "code",
   "execution_count": null,
   "id": "897b7870",
   "metadata": {},
   "outputs": [],
   "source": [
    "to_merge = group[group.action == 'alipay'][['user_id', 'seller_id', 'item_id']]\n",
    "b_s = b_s.merge(to_merge, how='left', on=['user_id', 'seller_id'])"
   ]
  },
  {
   "cell_type": "code",
   "execution_count": null,
   "id": "23433857",
   "metadata": {},
   "outputs": [],
   "source": [
    "to_merge = group[group.action == 'click'][['user_id', 'seller_id', 'item_id']]\n",
    "b_s = b_s.merge(to_merge, how='left', on=['user_id', 'seller_id'])"
   ]
  },
  {
   "cell_type": "code",
   "execution_count": null,
   "id": "b9b7d57d",
   "metadata": {},
   "outputs": [],
   "source": [
    "b_s = b_s.rename(columns={'item_id_x': 'purchase', 'item_id_y': 'click'})"
   ]
  },
  {
   "cell_type": "code",
   "execution_count": null,
   "id": "9bf1ddbe",
   "metadata": {},
   "outputs": [],
   "source": [
    "to_merge = group[group.action == 'cart'][['user_id', 'seller_id', 'item_id']]\n",
    "b_s = b_s.merge(to_merge, how='left', on=['user_id', 'seller_id'])\n",
    "b_s = b_s.rename(columns={'item_id': 'cart'})"
   ]
  },
  {
   "cell_type": "markdown",
   "id": "5d30a390",
   "metadata": {},
   "source": [
    "### last month"
   ]
  },
  {
   "cell_type": "code",
   "execution_count": null,
   "id": "9cf30ef8",
   "metadata": {},
   "outputs": [],
   "source": [
    "last_month = train[train.vmonth == '2013-07'].groupby(['user_id', 'seller_id', 'action']).count()[['item_id']]\n",
    "last_month = last_month.reset_index()"
   ]
  },
  {
   "cell_type": "code",
   "execution_count": null,
   "id": "ec96b078",
   "metadata": {},
   "outputs": [],
   "source": [
    "to_merge = last_month[last_month.action == 'purchase'][['user_id', 'seller_id', 'item_id']]\n",
    "b_s = b_s.merge(to_merge, how='left', on=['user_id', 'seller_id'])\n",
    "b_s = b_s.rename(columns={'item_id': 'recent_purchase'})"
   ]
  },
  {
   "cell_type": "code",
   "execution_count": null,
   "id": "ed35b058",
   "metadata": {},
   "outputs": [],
   "source": [
    "to_merge = last_month[last_month.action == 'click'][['user_id', 'seller_id', 'item_id']]\n",
    "b_s = b_s.merge(to_merge, how='left', on=['user_id', 'seller_id'])\n",
    "b_s = b_s.rename(columns={'item_id': 'recent_click'})"
   ]
  },
  {
   "cell_type": "code",
   "execution_count": null,
   "id": "68b75174",
   "metadata": {},
   "outputs": [],
   "source": [
    "to_merge = last_month[last_month.action == 'cart'][['user_id', 'seller_id', 'item_id']]\n",
    "b_s = b_s.merge(to_merge, how='left', on=['user_id', 'seller_id'])\n",
    "b_s = b_s.rename(columns={'item_id': 'recent_cart'})"
   ]
  },
  {
   "cell_type": "markdown",
   "id": "ec3d8bf8",
   "metadata": {},
   "source": [
    "### outcome"
   ]
  },
  {
   "cell_type": "code",
   "execution_count": null,
   "id": "81dd6df6",
   "metadata": {},
   "outputs": [],
   "source": [
    "g = out.groupby(['user_id', 'seller_id', 'action']).count()\n",
    "g = g.reset_index()\n",
    "to_merge = g[g.action == 'alipay'][['user_id', 'seller_id', 'item_id']]\n",
    "to_merge['item_id'] = np.ones(len(to_merge))"
   ]
  },
  {
   "cell_type": "code",
   "execution_count": null,
   "id": "157823fc",
   "metadata": {},
   "outputs": [],
   "source": [
    "b_s = b_s.merge(to_merge, how='left', on=['user_id', 'seller_id'])\n",
    "b_s = b_s.rename(columns={'item_id': 'outcome'})"
   ]
  },
  {
   "cell_type": "code",
   "execution_count": null,
   "id": "a93d592b",
   "metadata": {},
   "outputs": [],
   "source": [
    "b_s= b_s.fillna(0)"
   ]
  },
  {
   "cell_type": "code",
   "execution_count": null,
   "id": "029e15b5",
   "metadata": {},
   "outputs": [],
   "source": [
    "b_s.to_csv('b_s_train.csv', index=False)"
   ]
  },
  {
   "cell_type": "code",
   "execution_count": null,
   "id": "57c4958e",
   "metadata": {},
   "outputs": [],
   "source": []
  },
  {
   "cell_type": "code",
   "execution_count": null,
   "id": "db44ecde",
   "metadata": {},
   "outputs": [],
   "source": []
  },
  {
   "cell_type": "code",
   "execution_count": null,
   "id": "a11f04be",
   "metadata": {},
   "outputs": [],
   "source": []
  },
  {
   "cell_type": "code",
   "execution_count": null,
   "id": "9cbaa908",
   "metadata": {},
   "outputs": [],
   "source": []
  }
 ],
 "metadata": {
  "kernelspec": {
   "display_name": "Python 3 (ipykernel)",
   "language": "python",
   "name": "python3"
  },
  "language_info": {
   "codemirror_mode": {
    "name": "ipython",
    "version": 3
   },
   "file_extension": ".py",
   "mimetype": "text/x-python",
   "name": "python",
   "nbconvert_exporter": "python",
   "pygments_lexer": "ipython3",
   "version": "3.9.13"
  }
 },
 "nbformat": 4,
 "nbformat_minor": 5
}
