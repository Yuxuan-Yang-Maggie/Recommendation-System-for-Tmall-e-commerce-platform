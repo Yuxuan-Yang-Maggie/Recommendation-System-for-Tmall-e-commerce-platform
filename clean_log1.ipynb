{
 "cells": [
  {
   "cell_type": "markdown",
   "id": "5aee4c25",
   "metadata": {},
   "source": [
    "# Loading Log Dataset (Part 1)"
   ]
  },
  {
   "cell_type": "markdown",
   "id": "451fcc1b",
   "metadata": {},
   "source": [
    "## Step 1 Grouping Log Dataset by User Id\n",
    "\n",
    "The output in this step should be a dataset that contains the count of any action, including buy, cart, and click, for each user."
   ]
  },
  {
   "cell_type": "code",
   "execution_count": 2,
   "id": "3afd5685",
   "metadata": {},
   "outputs": [],
   "source": [
    "import pandas as pd"
   ]
  },
  {
   "cell_type": "code",
   "execution_count": 3,
   "id": "2c88d6e7",
   "metadata": {},
   "outputs": [],
   "source": [
    "# filter: female clothing only\n",
    "df = pd.read_csv('clothes.csv')\n",
    "item = list(set(df.item_id))"
   ]
  },
  {
   "cell_type": "code",
   "execution_count": 22,
   "id": "1b2ec743",
   "metadata": {},
   "outputs": [],
   "source": [
    "# read by chunk of 1000000\n",
    "columns=['item_id', 'user_id', 'action', 'vtime']\n",
    "chunksize = 10000000\n",
    "reader = pd.read_csv('tianchi_2014002_rec_tmall_log_parta.txt', header=None, sep='\\x01', \n",
    "            names=columns, chunksize=chunksize)"
   ]
  },
  {
   "cell_type": "code",
   "execution_count": 23,
   "id": "9f13ab69",
   "metadata": {
    "collapsed": true
   },
   "outputs": [
    {
     "name": "stdout",
     "output_type": "stream",
     "text": [
      "0\n",
      "1\n",
      "2\n",
      "3\n",
      "4\n",
      "5\n",
      "6\n",
      "7\n",
      "8\n",
      "9\n",
      "10\n",
      "11\n",
      "12\n",
      "13\n",
      "14\n",
      "15\n",
      "16\n",
      "17\n",
      "18\n",
      "19\n",
      "20\n",
      "21\n",
      "22\n",
      "23\n",
      "24\n",
      "25\n",
      "26\n",
      "27\n",
      "28\n",
      "29\n",
      "30\n",
      "31\n",
      "32\n",
      "33\n",
      "34\n",
      "35\n",
      "36\n",
      "37\n",
      "38\n",
      "39\n",
      "40\n",
      "41\n",
      "42\n",
      "43\n",
      "44\n"
     ]
    }
   ],
   "source": [
    "# group by \n",
    "df1 = []\n",
    "for i, chunk in enumerate(reader):\n",
    "    df1.append(chunk[chunk.item_id.isin(item)].groupby(['user_id']).count()[['item_id']])\n",
    "    print(i)"
   ]
  },
  {
   "cell_type": "code",
   "execution_count": 24,
   "id": "9680513e",
   "metadata": {},
   "outputs": [
    {
     "name": "stdout",
     "output_type": "stream",
     "text": [
      "Stored 'df1' (list)\n"
     ]
    }
   ],
   "source": [
    "# store the output of each chunk in a list\n",
    "%store df1"
   ]
  },
  {
   "cell_type": "code",
   "execution_count": 26,
   "id": "ba092ec7",
   "metadata": {},
   "outputs": [],
   "source": [
    "reader = pd.read_csv('tianchi_2014002_rec_tmall_log_partb.txt', header=None, sep='\\x01',\n",
    "                     names=columns, chunksize=chunksize)"
   ]
  },
  {
   "cell_type": "code",
   "execution_count": 27,
   "id": "629d5dbb",
   "metadata": {
    "collapsed": true
   },
   "outputs": [
    {
     "name": "stdout",
     "output_type": "stream",
     "text": [
      "0\n",
      "1\n",
      "2\n",
      "3\n",
      "4\n",
      "5\n",
      "6\n",
      "7\n",
      "8\n",
      "9\n",
      "10\n",
      "11\n",
      "12\n",
      "13\n",
      "14\n",
      "15\n",
      "16\n",
      "17\n",
      "18\n",
      "19\n",
      "20\n",
      "21\n",
      "22\n",
      "23\n",
      "24\n",
      "25\n",
      "26\n",
      "27\n",
      "28\n",
      "29\n",
      "30\n",
      "31\n",
      "32\n",
      "33\n",
      "34\n",
      "35\n",
      "36\n",
      "37\n",
      "38\n",
      "39\n",
      "40\n",
      "41\n",
      "42\n",
      "43\n",
      "44\n"
     ]
    }
   ],
   "source": [
    "df2 = []\n",
    "for i, chunk in enumerate(reader):\n",
    "    df2.append(chunk[chunk.item_id.isin(item)].groupby(['user_id']).count()[['item_id']])\n",
    "    print(i)"
   ]
  },
  {
   "cell_type": "code",
   "execution_count": 28,
   "id": "76957fb9",
   "metadata": {},
   "outputs": [
    {
     "name": "stdout",
     "output_type": "stream",
     "text": [
      "Stored 'df2' (list)\n"
     ]
    }
   ],
   "source": [
    "%store df2"
   ]
  },
  {
   "cell_type": "code",
   "execution_count": 30,
   "id": "1e83b77a",
   "metadata": {},
   "outputs": [],
   "source": [
    "reader = pd.read_csv('tianchi_2014002_rec_tmall_log_partc.txt', header=None, sep='\\x01',\n",
    "                     names=columns, chunksize=chunksize)"
   ]
  },
  {
   "cell_type": "code",
   "execution_count": 31,
   "id": "7a0d08b1",
   "metadata": {
    "collapsed": true
   },
   "outputs": [
    {
     "name": "stdout",
     "output_type": "stream",
     "text": [
      "0\n",
      "1\n",
      "2\n",
      "3\n",
      "4\n",
      "5\n",
      "6\n",
      "7\n",
      "8\n",
      "9\n",
      "10\n",
      "11\n",
      "12\n",
      "13\n",
      "14\n",
      "15\n",
      "16\n",
      "17\n",
      "18\n",
      "19\n",
      "20\n",
      "21\n",
      "22\n",
      "23\n",
      "24\n",
      "25\n",
      "26\n",
      "27\n",
      "28\n",
      "29\n",
      "30\n",
      "31\n",
      "32\n",
      "33\n",
      "34\n",
      "35\n",
      "36\n",
      "37\n",
      "38\n",
      "39\n",
      "40\n",
      "41\n",
      "42\n",
      "43\n"
     ]
    }
   ],
   "source": [
    "df3 = []\n",
    "for i, chunk in enumerate(reader):\n",
    "    df3.append(chunk[chunk.item_id.isin(item)].groupby(['user_id']).count()[['item_id']])\n",
    "    print(i)"
   ]
  },
  {
   "cell_type": "code",
   "execution_count": 32,
   "id": "84fb76fb",
   "metadata": {},
   "outputs": [
    {
     "name": "stdout",
     "output_type": "stream",
     "text": [
      "Stored 'df3' (list)\n"
     ]
    }
   ],
   "source": [
    "%store df3"
   ]
  },
  {
   "cell_type": "markdown",
   "id": "487bb11a",
   "metadata": {},
   "source": [
    "## Step 3 Selecting Target Buyers only from the Dataset"
   ]
  },
  {
   "cell_type": "code",
   "execution_count": 34,
   "id": "923dbec5",
   "metadata": {},
   "outputs": [],
   "source": [
    "# load target buyers from step 2\n",
    "%store -r user"
   ]
  },
  {
   "cell_type": "code",
   "execution_count": 39,
   "id": "00b07f94",
   "metadata": {},
   "outputs": [],
   "source": [
    "df10 = []"
   ]
  },
  {
   "cell_type": "code",
   "execution_count": 40,
   "id": "624ee9ae",
   "metadata": {},
   "outputs": [],
   "source": [
    "columns=['item_id', 'user_id', 'action', 'vtime']\n",
    "chunksize = 10000000\n",
    "reader = pd.read_csv('tianchi_2014002_rec_tmall_log_parta.txt', header=None, sep='\\x01', \n",
    "            names=columns, chunksize=chunksize)"
   ]
  },
  {
   "cell_type": "code",
   "execution_count": 41,
   "id": "0ccba268",
   "metadata": {
    "collapsed": true
   },
   "outputs": [
    {
     "name": "stdout",
     "output_type": "stream",
     "text": [
      "0\n",
      "1\n",
      "2\n",
      "3\n",
      "4\n",
      "5\n",
      "6\n",
      "7\n",
      "8\n",
      "9\n",
      "10\n",
      "11\n",
      "12\n",
      "13\n",
      "14\n",
      "15\n",
      "16\n",
      "17\n",
      "18\n",
      "19\n",
      "20\n",
      "21\n",
      "22\n",
      "23\n",
      "24\n",
      "25\n",
      "26\n",
      "27\n",
      "28\n",
      "29\n",
      "30\n",
      "31\n",
      "32\n",
      "33\n",
      "34\n",
      "35\n",
      "36\n",
      "37\n",
      "38\n",
      "39\n",
      "40\n",
      "41\n",
      "42\n",
      "43\n",
      "44\n"
     ]
    }
   ],
   "source": [
    "# for each chunk, consider target buyers only\n",
    "for i, chunk in enumerate(reader):\n",
    "    df10.append(chunk[chunk.user_id.isin(user)])\n",
    "    print(i)"
   ]
  },
  {
   "cell_type": "code",
   "execution_count": 51,
   "id": "12a0af87",
   "metadata": {},
   "outputs": [
    {
     "name": "stdout",
     "output_type": "stream",
     "text": [
      "Stored 'df10' (list)\n"
     ]
    }
   ],
   "source": [
    "%store df10"
   ]
  },
  {
   "cell_type": "code",
   "execution_count": 43,
   "id": "cd5daf9a",
   "metadata": {},
   "outputs": [],
   "source": [
    "reader = pd.read_csv('tianchi_2014002_rec_tmall_log_partb.txt', header=None, sep='\\x01',\n",
    "                     names=columns, chunksize=chunksize)"
   ]
  },
  {
   "cell_type": "code",
   "execution_count": 44,
   "id": "ea8fc952",
   "metadata": {
    "collapsed": true
   },
   "outputs": [
    {
     "name": "stdout",
     "output_type": "stream",
     "text": [
      "0\n",
      "1\n",
      "2\n",
      "3\n",
      "4\n",
      "5\n",
      "6\n",
      "7\n",
      "8\n",
      "9\n",
      "10\n",
      "11\n",
      "12\n",
      "13\n",
      "14\n",
      "15\n",
      "16\n",
      "17\n",
      "18\n",
      "19\n",
      "20\n",
      "21\n",
      "22\n",
      "23\n",
      "24\n",
      "25\n",
      "26\n",
      "27\n",
      "28\n",
      "29\n",
      "30\n",
      "31\n",
      "32\n",
      "33\n",
      "34\n",
      "35\n",
      "36\n",
      "37\n",
      "38\n",
      "39\n",
      "40\n",
      "41\n",
      "42\n",
      "43\n",
      "44\n"
     ]
    }
   ],
   "source": [
    "for i, chunk in enumerate(reader):\n",
    "    df10.append(chunk[chunk.user_id.isin(user)])\n",
    "    print(i)"
   ]
  },
  {
   "cell_type": "code",
   "execution_count": 49,
   "id": "e97cbd4c",
   "metadata": {},
   "outputs": [],
   "source": [
    "reader = pd.read_csv('tianchi_2014002_rec_tmall_log_partc.txt', header=None, sep='\\x01',\n",
    "                     names=columns, chunksize=chunksize)"
   ]
  },
  {
   "cell_type": "code",
   "execution_count": 50,
   "id": "e34e9e34",
   "metadata": {
    "collapsed": true
   },
   "outputs": [
    {
     "name": "stdout",
     "output_type": "stream",
     "text": [
      "0\n",
      "1\n",
      "2\n",
      "3\n",
      "4\n",
      "5\n",
      "6\n",
      "7\n",
      "8\n",
      "9\n",
      "10\n",
      "11\n",
      "12\n",
      "13\n",
      "14\n",
      "15\n",
      "16\n",
      "17\n",
      "18\n",
      "19\n",
      "20\n",
      "21\n",
      "22\n",
      "23\n",
      "24\n",
      "25\n",
      "26\n",
      "27\n",
      "28\n",
      "29\n",
      "30\n",
      "31\n",
      "32\n",
      "33\n",
      "34\n",
      "35\n",
      "36\n",
      "37\n",
      "38\n",
      "39\n",
      "40\n",
      "41\n",
      "42\n",
      "43\n"
     ]
    }
   ],
   "source": [
    "for i, chunk in enumerate(reader):\n",
    "    df10.append(chunk[chunk.user_id.isin(user)])\n",
    "    print(i)"
   ]
  },
  {
   "cell_type": "code",
   "execution_count": 49,
   "id": "a359ddf9",
   "metadata": {},
   "outputs": [],
   "source": [
    "df.to_csv(r'/Users/liuyifan/Desktop/ECO481/product_log.csv', index=False)"
   ]
  }
 ],
 "metadata": {
  "kernelspec": {
   "display_name": "Python 3 (ipykernel)",
   "language": "python",
   "name": "python3"
  },
  "language_info": {
   "codemirror_mode": {
    "name": "ipython",
    "version": 3
   },
   "file_extension": ".py",
   "mimetype": "text/x-python",
   "name": "python",
   "nbconvert_exporter": "python",
   "pygments_lexer": "ipython3",
   "version": "3.9.13"
  }
 },
 "nbformat": 4,
 "nbformat_minor": 5
}
