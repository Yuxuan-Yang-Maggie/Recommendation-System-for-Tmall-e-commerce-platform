{
 "cells": [
  {
   "cell_type": "markdown",
   "id": "55738f60",
   "metadata": {},
   "source": [
    "# Merge the Log and Product Datasets"
   ]
  },
  {
   "cell_type": "code",
   "execution_count": 1,
   "id": "d62c5dc1",
   "metadata": {},
   "outputs": [],
   "source": [
    "import pandas as pd"
   ]
  },
  {
   "cell_type": "code",
   "execution_count": 14,
   "id": "e2dddf5b",
   "metadata": {},
   "outputs": [],
   "source": [
    "log = pd.read_csv('log.csv')\n",
    "clothes = pd.read_csv('clothes.csv')"
   ]
  },
  {
   "cell_type": "code",
   "execution_count": 20,
   "id": "d2de79ec",
   "metadata": {},
   "outputs": [],
   "source": [
    "product_log = log.merge(clothes, on='item_id')"
   ]
  },
  {
   "cell_type": "code",
   "execution_count": 22,
   "id": "7ab26c57",
   "metadata": {},
   "outputs": [],
   "source": [
    "product_log.to_csv('product_log.csv', index=False)"
   ]
  }
 ],
 "metadata": {
  "kernelspec": {
   "display_name": "Python 3 (ipykernel)",
   "language": "python",
   "name": "python3"
  },
  "language_info": {
   "codemirror_mode": {
    "name": "ipython",
    "version": 3
   },
   "file_extension": ".py",
   "mimetype": "text/x-python",
   "name": "python",
   "nbconvert_exporter": "python",
   "pygments_lexer": "ipython3",
   "version": "3.9.13"
  }
 },
 "nbformat": 4,
 "nbformat_minor": 5
}
